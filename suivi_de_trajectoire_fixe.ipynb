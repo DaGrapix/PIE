{
  "cells": [
    {
      "cell_type": "markdown",
      "metadata": {
        "id": "pJFnqiK5wxcF"
      },
      "source": [
        "# Fixed wing drone swarm pursuit"
      ]
    },
    {
      "cell_type": "markdown",
      "metadata": {
        "id": "kfyC_JKRwxcG"
      },
      "source": [
        "## Imports"
      ]
    },
    {
      "cell_type": "code",
      "execution_count": null,
      "metadata": {
        "id": "a_fOReW5wxcG"
      },
      "outputs": [],
      "source": [
        "import pygame\n",
        "from pygame.math import Vector2\n",
        "from math import *, ceil, sqrt\n",
        "import numpy as np\n",
        "import random as rd\n",
        "from IPython.display import Image\n",
        "import time\n",
        "import matplotlib.pyplot as plt\n",
        "from shapely.geometry import Polygon, Point, LineString"
      ]
    },
    {
      "cell_type": "markdown",
      "metadata": {
        "id": "yOrugOOCwxcH"
      },
      "source": [
        "## Constants"
      ]
    },
    {
      "cell_type": "markdown",
      "metadata": {
        "id": "EK5BR0NZwxcH"
      },
      "source": [
        "### Global constants"
      ]
    },
    {
      "cell_type": "code",
      "execution_count": null,
      "metadata": {
        "id": "W7GK2ek6wxcI"
      },
      "outputs": [],
      "source": [
        "# controler constants\n",
        "k_position = 1\n",
        "k_velocity = 1\n",
        "k_angle_penalty = 1\n",
        "k_velocity_penalty = 1\n",
        "k_theta = 1\n",
        "k_omega = 0.01\n",
        "\n",
        "# display settings\n",
        "width = 1280\n",
        "height = 720"
      ]
    },
    {
      "cell_type": "markdown",
      "metadata": {
        "id": "OljpB5ndwxcI"
      },
      "source": [
        "### Swarm constants"
      ]
    },
    {
      "cell_type": "code",
      "execution_count": null,
      "metadata": {
        "id": "i8kojFpZwxcI"
      },
      "outputs": [],
      "source": [
        "N_drones = 5\n",
        "launch_position = np.zeros(2)\n",
        "\n",
        "#collision control constants\n",
        "ref_angle = 20 #20°\n",
        "k_front_angle = 100\n",
        "k_collision_angle = 200\n",
        "k_angle_velocity = 10000\n",
        "k_collision_acceleration = 5\n",
        "k_spacing = 1.3"
      ]
    },
    {
      "cell_type": "markdown",
      "metadata": {
        "id": "NCVdHVRxwxcI"
      },
      "source": [
        "## Main classes & functions"
      ]
    },
    {
      "cell_type": "code",
      "execution_count": null,
      "metadata": {
        "id": "fwBH3i7owxcJ",
        "outputId": "1e360536-cfa2-45a3-e111-77b95805e7e0"
      },
      "outputs": [
        {
          "data": {
            "image/jpeg": "[encoded data removed]",
            "text/plain": [
              "<IPython.core.display.Image object>"
            ]
          },
          "execution_count": 838,
          "metadata": {},
          "output_type": "execute_result"
        }
      ],
      "source": [
        "Image(filename='images/signed_angle.jpg') "
      ]
    },
    {
      "cell_type": "code",
      "execution_count": null,
      "metadata": {
        "id": "ClivzAe7wxcK"
      },
      "outputs": [],
      "source": [
        "#returns the signed angle between two vectors u and v\n",
        "def signed_angle(u, v):\n",
        "    angle = atan2(v[1], v[0]) - atan2(u[1], u[0])\n",
        "    angle = degrees(angle)\n",
        "    if angle > 180:\n",
        "        angle -= 360\n",
        "    elif angle < -180:\n",
        "        angle += 360\n",
        "    return angle\n",
        "\n",
        "def add_gaussian_noise(vec, mean=0, std_dev=1, size = 2):\n",
        "    noise = np.random.normal(mean, std_dev, size)\n",
        "    return vec + noise\n",
        "\n",
        "def computeDistance(drone, zone) :\n",
        "    '''Computes the distance between a drone and a zone\n",
        "\n",
        "    Args:\n",
        "          drone (Drone): a drone\n",
        "          zone (2 dimension float list): list of zone outline coordinates\n",
        "    \n",
        "    Returns:\n",
        "          rect.distance(point) (float): min distance between drone and zone\n",
        "    '''\n",
        "    rect = Polygon(zone)\n",
        "    drone_pos = (drone.position.x, drone.position.y)\n",
        "    point = Point(drone_pos)\n",
        "    return rect.distance(point)\n",
        "\n",
        "def divide_ring_zone(center, inner_radius, outer_radius, nb_zones):\n",
        "    '''Divides a ring zone into multiple sub zones\n",
        "    \n",
        "    Args:\n",
        "         center (tuple): center of the ring\n",
        "         inner_radius (float): radius of the inner circle of the ring\n",
        "         outer_radius (float): radius of the outer cirlce of the ring\n",
        "         nb_zones (int)\n",
        "    Returns:\n",
        "         sub_zones (3 dimension float list): list of sub zones outline coordinates\n",
        "    '''\n",
        "    center = Point(center[0], center[1])\n",
        "    inner_circle = center.buffer(inner_radius)\n",
        "    outer_circle = center.buffer(outer_radius)\n",
        "\n",
        "    # Divide inner and outer circle in nb_zones near equal parts\n",
        "    sub_arrays_inner = np.array_split(inner_circle.exterior.coords, nb_zones)\n",
        "    sub_arrays_outer = np.array_split(outer_circle.exterior.coords, nb_zones)\n",
        "    # Add connection points to sub arrays \n",
        "    for i in range(nb_zones) :\n",
        "        sub_arrays_inner[i] = np.concatenate((sub_arrays_inner[i], [sub_arrays_inner[(i+1)%nb_zones][0]]), axis=0)\n",
        "        sub_arrays_outer[i] = np.concatenate((sub_arrays_outer[i], [sub_arrays_outer[(i+1)%nb_zones][0]]), axis=0)\n",
        "        \n",
        "    # Sub zones creation\n",
        "    sub_zones = []\n",
        "    for i in range(nb_zones):\n",
        "        # Concatenate outer circle part with the corresponding inner circle part to create the sub zone\n",
        "        concat = np.concatenate((np.flip(sub_arrays_inner[i], axis=0), sub_arrays_outer[i]))\n",
        "        sub_zone = Polygon(concat)\n",
        "        # Coords of sub zone\n",
        "        zone_coords = []\n",
        "        for coord in sub_zone.exterior.coords:\n",
        "            zone_coords.append([coord[0], coord[1]])\n",
        "        sub_zones.append(zone_coords)\n",
        "    return sub_zones\n",
        "\n",
        "\n",
        "def compute_mesh(assignment_list) :\n",
        "    '''Computes a list of mesh over a list of zones\n",
        "\n",
        "    Args:\n",
        "          assignment_list (tuple (Drone, 2 dimension float list)): list of couples (drone, zone assigned)\n",
        "    Returns :\n",
        "          zones_mesh (2 dimension list of float) : a list of lists of mesh points coordinates for each each zone\n",
        "    '''\n",
        "    \n",
        "    zones_list = [sub_list[1] for sub_list in assignment_list]\n",
        "    mesh_size = 0.3\n",
        "    \n",
        "    # Coordinates to Polygon objects\n",
        "    zones_mesh = []\n",
        "    for zone in zones_list :\n",
        "        poly = Polygon(zone)\n",
        "        # Limits of polygon\n",
        "        min_x, min_y, max_x, max_y = poly.bounds\n",
        "        \n",
        "        # Construct square mesh \n",
        "        x_coords = np.arange(min_x, max_x + mesh_size, mesh_size)\n",
        "        y_coords = np.arange(min_y, max_y + mesh_size, mesh_size)\n",
        "        mesh_x, mesh_y = np.meshgrid(x_coords, y_coords)\n",
        "        mesh_points = np.column_stack((mesh_x.ravel(), mesh_y.ravel()))\n",
        "\n",
        "        # Extract points belonging to the polygon\n",
        "        mask = [poly.contains(Point(p[0], p[1])) for p in mesh_points]\n",
        "        mesh_points = mesh_points[mask]\n",
        "        indices = []\n",
        "        for i in range(len(mesh_points)-1) :\n",
        "            print(\"coucou\")\n",
        "            if (math.dist(mesh_points[i], mesh_points[i+1]) > mesh_size*4) :\n",
        "                indices.append(i+1)\n",
        "                print(\"Indice : \", i+1)\n",
        "\n",
        "        for i in range(len(indices)-1) :\n",
        "            if (i%2 == 0) :\n",
        "                mesh_points[indices[i]:indices[i+1]] = mesh_points[indices[i]:indices[i+1]][::-1]\n",
        "        zones_mesh.append(mesh_points)\n",
        "    \n",
        "    return zones_mesh\n",
        "\n",
        "\n",
        "def print_assignment(assignment_list, left_drones_list, left_zones_list, zones_mesh) :\n",
        "    '''Prints the result of the assignement\n",
        "\n",
        "    Args:\n",
        "         assignment_list (tuple (Drone, 2 dimension list)): list of couples (drone, zone assigned)\n",
        "         left_drones_list (2 dimension float list): list of unassigned drones (if number of drones > number of zones)\n",
        "         left_zones_list (3 dimension float list): list of unassigned zones outline coordinates (if number of zones > number of drones)\n",
        "         zones_mesh (list of tuples) : list of points coordinates of the mesh\n",
        "    Returns:\n",
        "    '''\n",
        "    no_of_colors = len(assignment_list)\n",
        "    color = [\"#\"+''.join([random.choice('123456789ABCDEF') for i in range(6)]) for j in range(no_of_colors)]\n",
        "    for i, (drone, zone) in enumerate(assignment_list) :\n",
        "        print(i)\n",
        "        plt.plot(drone.position.x, drone.position.y, marker='1', c=color[i])\n",
        "        x_coords = []\n",
        "        y_coords = []\n",
        "        for (x, y) in zone :\n",
        "            x_coords.append(x)\n",
        "            y_coords.append(y)\n",
        "        plt.plot(x_coords, y_coords, c=color[i])\n",
        "        x_coords = []\n",
        "        y_coords = []\n",
        "        graph, = plt.plot([], [], 'o')\n",
        "        for (x, y) in zones_mesh[i] :\n",
        "             plt.plot(x, y, marker='+', c=color[i])\n",
        "             #plt.pause(0.1)\n",
        "    for drone in left_drones_list :\n",
        "        plt.scatter(drone.position.x, drone.position.y, marker='1', c='black')\n",
        "    for zone in left_zones_list :\n",
        "        x_coords = []\n",
        "        y_coords = []\n",
        "        for (x, y) in zone :\n",
        "            x_coords.append(x)\n",
        "            y_coords.append(y)\n",
        "        plt.plot(x_coords, y_coords, c='black')\n",
        "    #plt.show(block=True)\n",
        "    plt.show()\n"
      ]
    },
    {
      "cell_type": "markdown",
      "metadata": {
        "id": "rPgVB7X4wxcK"
      },
      "source": [
        "### Vehicle class"
      ]
    },
    {
      "cell_type": "markdown",
      "metadata": {
        "id": "FkuyJ5wxwxcK"
      },
      "source": [
        "To control the vehicle, uncomment this cell and comment the next Vehicle class cell.\n",
        "\n",
        "You may use the arrow keys of your keyboard to control the vehicle."
      ]
    },
    {
      "cell_type": "code",
      "execution_count": null,
      "metadata": {
        "id": "7Zcq9s3BwxcK"
      },
      "outputs": [],
      "source": [
        "class Vehicle:\n",
        "    def __init__(self, x, y, scaling=1, angle_0=0.0, length_0=4, max_steering_0=30, max_acceleration_0=5.0, k_steering_0=30, brake_deceleration_0=10, free_deceleration_0=2, max_velocity_0=30):\n",
        "        self.position = Vector2(x, y)\n",
        "        self.velocity = Vector2(0.0, 0.0)\n",
        "        self.angle = angle_0\n",
        "        self.length = length_0\n",
        "        self.max_acceleration = max_acceleration_0\n",
        "        self.max_steering = max_steering_0\n",
        "        self.max_velocity = max_velocity_0/scaling\n",
        "        self.brake_deceleration = brake_deceleration_0\n",
        "        self.free_deceleration = free_deceleration_0\n",
        "        self.k_steering = k_steering_0\n",
        "        self.scaling = scaling\n",
        "\n",
        "        self.acceleration = 0.0\n",
        "        self.steering = 0.0\n",
        "\n",
        "    def update(self, dt):\n",
        "        # User input\n",
        "        pressed = pygame.key.get_pressed()\n",
        "\n",
        "        if pressed[pygame.K_UP]:\n",
        "            if self.velocity.x < 0:\n",
        "                self.acceleration = self.brake_deceleration\n",
        "            else:\n",
        "                self.acceleration += (1/self.scaling) * dt\n",
        "        elif pressed[pygame.K_DOWN]:\n",
        "            if self.velocity.x > 0:\n",
        "                self.acceleration = -self.brake_deceleration\n",
        "            else:\n",
        "                self.acceleration -= (1/self.scaling) * dt\n",
        "        elif pressed[pygame.K_SPACE]:\n",
        "            if abs(self.velocity.x) > dt * self.brake_deceleration:\n",
        "                self.acceleration = -copysign(self.brake_deceleration, self.velocity.x)\n",
        "            else:\n",
        "                self.acceleration = -self.velocity.x / dt\n",
        "        else:\n",
        "            if abs(self.velocity.x) > dt * self.free_deceleration:\n",
        "                self.acceleration = -copysign(self.free_deceleration, self.velocity.x)\n",
        "            else:\n",
        "                if dt != 0:\n",
        "                    self.acceleration = -self.velocity.x / dt\n",
        "        self.acceleration = max(-self.max_acceleration, min(self.acceleration, self.max_acceleration))\n",
        "\n",
        "        #steering\n",
        "        if pressed[pygame.K_RIGHT]:\n",
        "            self.steering -= self.k_steering*dt\n",
        "        elif pressed[pygame.K_LEFT]:\n",
        "            self.steering += self.k_steering*dt\n",
        "        else:\n",
        "            self.steering = 0\n",
        "        self.steering = max(-self.max_steering, min(self.steering, self.max_steering))\n",
        "\n",
        "        #velocity update\n",
        "        self.velocity += (self.acceleration * dt, 0)\n",
        "        self.velocity.x = max(-self.max_velocity, min(self.velocity.x, self.max_velocity))\n",
        "\n",
        "        if self.steering:\n",
        "            turning_radius = self.length / sin(radians(self.steering))\n",
        "            angular_velocity = self.velocity.x / turning_radius\n",
        "        else:\n",
        "            angular_velocity = 0\n",
        "\n",
        "        self.position += self.velocity.rotate(-self.angle) * dt\n",
        "        self.angle += degrees(angular_velocity) * dt"
      ]
    },
    {
      "cell_type": "code",
      "execution_count": null,
      "metadata": {
        "id": "K9Tx2p3jwxcL",
        "outputId": "81bcd221-972f-491d-86be-b7fe77d4ca16"
      },
      "outputs": [
        {
          "data": {
            "text/plain": [
              "'\\nclass Vehicle:\\n    def __init__(self, x=10, y=10, angle=0.0, length=4, max_steering=40, max_acceleration=2, min_acceleration=-2, scaling=1,\\n                 max_velocity_0=10, min_velocity_0=-10):\\n        self.position = Vector2(x, y)\\n        self.velocity = Vector2(0.0, 0.0)\\n        self.angle = angle\\n        self.length = length\\n        self.max_acceleration = max_acceleration\\n        self.min_acceleration = min_acceleration\\n        self.max_steering = max_steering\\n        self.max_velocity = max_velocity_0\\n        self.min_velocity = min_velocity_0\\n        self.brake_deceleration = 1\\n        self.free_deceleration = 0.2\\n\\n        self.max_velocity = max_velocity_0/scaling\\n        self.min_velocity = min_velocity_0/scaling\\n\\n        self.steering_acc = 0.0\\n        self.acceleration = 0.0\\n        self.steering = 0.0\\n\\n    def update(self, dt):\\n        self.acceleration = rd.gauss(1,2)\\n        self.acceleration = max(self.min_acceleration, min(self.acceleration, self.max_acceleration))\\n\\n        self.steering_acc = rd.gauss(0,70)\\n        self.velocity += (self.acceleration * dt, 0)\\n        self.velocity.x = max(self.min_velocity, min(self.velocity.x, self.max_velocity))\\n        self.steering += self.steering_acc*dt\\n        self.steering = max(-self.max_steering, min(self.steering, self.max_steering))\\n        if abs(self.steering) == self.max_steering:\\n            self.steering = 0\\n        if self.steering:\\n            turning_radius = self.length / sin(radians(self.steering))\\n            angular_velocity = self.velocity.x / turning_radius\\n        else:\\n            angular_velocity = 0\\n\\n        self.position += self.velocity.rotate(-self.angle) * dt\\n        self.angle += degrees(angular_velocity) * dt\\n'"
            ]
          },
          "execution_count": 841,
          "metadata": {},
          "output_type": "execute_result"
        }
      ],
      "source": [
        "'''\n",
        "class Vehicle:\n",
        "    def __init__(self, x=10, y=10, angle=0.0, length=4, max_steering=40, max_acceleration=2, min_acceleration=-2, scaling=1,\n",
        "                 max_velocity_0=10, min_velocity_0=-10):\n",
        "        self.position = Vector2(x, y)\n",
        "        self.velocity = Vector2(0.0, 0.0)\n",
        "        self.angle = angle\n",
        "        self.length = length\n",
        "        self.max_acceleration = max_acceleration\n",
        "        self.min_acceleration = min_acceleration\n",
        "        self.max_steering = max_steering\n",
        "        self.max_velocity = max_velocity_0\n",
        "        self.min_velocity = min_velocity_0\n",
        "        self.brake_deceleration = 1\n",
        "        self.free_deceleration = 0.2\n",
        "\n",
        "        self.max_velocity = max_velocity_0/scaling\n",
        "        self.min_velocity = min_velocity_0/scaling\n",
        "\n",
        "        self.steering_acc = 0.0\n",
        "        self.acceleration = 0.0\n",
        "        self.steering = 0.0\n",
        "\n",
        "    def update(self, dt):\n",
        "        self.acceleration = rd.gauss(1,2)\n",
        "        self.acceleration = max(self.min_acceleration, min(self.acceleration, self.max_acceleration))\n",
        "\n",
        "        self.steering_acc = rd.gauss(0,70)\n",
        "        self.velocity += (self.acceleration * dt, 0)\n",
        "        self.velocity.x = max(self.min_velocity, min(self.velocity.x, self.max_velocity))\n",
        "        self.steering += self.steering_acc*dt\n",
        "        self.steering = max(-self.max_steering, min(self.steering, self.max_steering))\n",
        "        if abs(self.steering) == self.max_steering:\n",
        "            self.steering = 0\n",
        "        if self.steering:\n",
        "            turning_radius = self.length / sin(radians(self.steering))\n",
        "            angular_velocity = self.velocity.x / turning_radius\n",
        "        else:\n",
        "            angular_velocity = 0\n",
        "\n",
        "        self.position += self.velocity.rotate(-self.angle) * dt\n",
        "        self.angle += degrees(angular_velocity) * dt\n",
        "'''"
      ]
    },
    {
      "cell_type": "markdown",
      "metadata": {
        "id": "fqlUaAEYwxcM"
      },
      "source": [
        "### Drone class"
      ]
    },
    {
      "cell_type": "code",
      "execution_count": null,
      "metadata": {
        "id": "434tbrW5wxcM"
      },
      "outputs": [],
      "source": [
        "class Drone:\n",
        "    def __init__(self, x, y, scaling=1, angle_0=0, length_0=1, max_steering_0=30, max_acceleration_0=5.0, k_steering_0=30,\n",
        "                 brake_deceleration_0=10, free_deceleration_0=2, max_velocity_0=30, min_velocity_0=10,\n",
        "                 target_position_0=Vector2(0,0), swarm_index_0=0, vision_radius_0=100):\n",
        "        self.position = Vector2(x, y)\n",
        "        self.velocity = Vector2(0.0, 0.0)\n",
        "        self.angle = angle_0\n",
        "        self.length = length_0\n",
        "        self.max_acceleration = max_acceleration_0\n",
        "        self.max_steering = max_steering_0\n",
        "        self.max_velocity = max_velocity_0/scaling\n",
        "        self.min_velocity = min_velocity_0/scaling\n",
        "        self.brake_deceleration = brake_deceleration_0\n",
        "        self.free_deceleration = free_deceleration_0\n",
        "        self.k_steering = k_steering_0\n",
        "        self.swarm_index = swarm_index_0\n",
        "        self.vision_radius = vision_radius_0\n",
        "\n",
        "        try:\n",
        "            self.previous_theta = acos(Vector2.dot(target_position_0, Vector2(1.0, 0.0))/Vector2.magnitude(target_position_0)) - self.angle\n",
        "        except:\n",
        "            self.previous_theta = 0\n",
        "        self.acceleration = 0.0\n",
        "        self.steering = 0.0\n",
        "\n",
        "    def angle_calculation(self, target_position):\n",
        "        v = Vector2.normalize(target_position - self.position) # à bruiter parce qu'on connait pas la position exacte\n",
        "        #v = add_gaussian_noise(v,mean=0,std_dev=0.5)\n",
        "        v[1] = -v[1] # attention ca donne l'angle dans la base \"écran\" sinon\n",
        "        u = Vector2(1.0, 0.0).rotate(self.angle) #obtenable avec un gyroscope\n",
        "        \n",
        "        theta = signed_angle(u, v)\n",
        "        return theta\n",
        "\n",
        "    def chase(self, dt, last_target_position, last_target_velocity, drone_positions, drone_velocities):\n",
        "        # Deltas\n",
        "        del_position = Vector2.magnitude(last_target_position - self.position)\n",
        "        del_velocity = Vector2.magnitude(last_target_velocity - self.velocity)\n",
        "\n",
        "        theta = self.angle_calculation(last_target_position)\n",
        "\n",
        "        #print(target_position.y, target_position.x)\n",
        "        del_theta = (theta - self.previous_theta)\n",
        "\n",
        "        self.previous_theta = theta\n",
        "\n",
        "        collision_angle = 0\n",
        "        collision_acceleration = 0\n",
        "\n",
        "        # Avoiding collisions\n",
        "        if (len(drone_positions) > 1):\n",
        "            for i in range(len(drone_positions)):\n",
        "                if (i != self.swarm_index):\n",
        "                    # Angle\n",
        "                    del_position = Vector2.magnitude(drone_positions[i] - self.position)\n",
        "                    del_velocity = np.sign(Vector2.dot(self.velocity, drone_velocities[i]))*Vector2.magnitude(drone_velocities[i] - self.velocity)\n",
        "                    angle = self.angle_calculation(drone_positions[i])\n",
        "                    #print(f\"drone:{self.swarm_index},       angle:{round(angle, 2)},      del_pos:{round(del_position, 2)}\")\n",
        "                    \n",
        "                    if (self.position != drone_positions[i]):\n",
        "                        angle = self.angle_calculation(drone_positions[i])\n",
        "                        if ((angle >= -ref_angle) & (angle <= ref_angle)):\n",
        "                            collision_angle += -np.sign(angle)*k_front_angle*(1 + (1.0/del_position**2) + k_angle_velocity*(1.0/del_velocity**2))\n",
        "                        else:\n",
        "                            #if a drone is on the right, turn left and vice versa\n",
        "                            #collision_angle += (1.0/del_position**2)*abs(sin(angle*pi/180.0))\n",
        "                            collision_angle += -np.sign(angle)*(1.0/del_position**2)\n",
        "\n",
        "                    # Acceleration\n",
        "                    if ((angle >= -90) & (angle <= 90)):\n",
        "                        #if a drone is in front, decelerate\n",
        "                        collision_acceleration -= (1.0/del_position**2)*abs(cos(angle*pi/180.0))\n",
        "                        #collision_acceleration -= (1.0/del_position**2)\n",
        "                    else:\n",
        "                        #if a drone is behind, accelerate\n",
        "                        collision_acceleration += (1.0/del_position**2)*abs(cos(angle*pi/180.0))\n",
        "                        #collision_acceleration += (1.0/del_position**2)\n",
        "\n",
        "        #Gaz pedal controller\n",
        "        self.acceleration = k_position*del_position + k_velocity*del_velocity + k_collision_acceleration*collision_acceleration\n",
        "        self.acceleration = max(-self.max_acceleration, min(self.acceleration, self.max_acceleration))\n",
        "        #self.acceleration = 0\n",
        "\n",
        "        #steering controller\n",
        "        #self.steering = k_theta*theta + k_omega*del_theta + k_collision_angle*collision_angle - k_velocity_penalty*Vector2.magnitude(self.velocity)/self.max_velocity\n",
        "        self.steering = k_theta*theta + k_omega*del_theta + k_collision_angle*collision_angle\n",
        "        self.steering = k_theta*theta\n",
        "        self.steering = max(-self.max_steering, min(self.steering, self.max_steering))\n",
        "\n",
        "        #velocity update\n",
        "        self.velocity += Vector2(self.acceleration*dt, 0.0) \n",
        "        self.velocity.x = max(self.min_velocity, min(self.velocity.x, self.max_velocity))\n",
        "        #self.velocity.y = max(self.min_velocity, min(self.velocity.y, self.max_velocity))\n",
        "\n",
        "        if self.steering:\n",
        "            turning_radius = self.length/sin(radians(self.steering))\n",
        "            angular_velocity = self.velocity.x/turning_radius\n",
        "        else:\n",
        "            angular_velocity = 0\n",
        "\n",
        "        self.position += self.velocity.rotate(-self.angle) * dt\n",
        "        self.angle += degrees(angular_velocity) * dt\n",
        "    \n",
        "    def update(self, dt, target_position, target_velocity, ppu, last_target_position=Vector2(0,0), last_target_velocity=Vector2(0,0), drone_positions=[], drone_velocities=[], state=0):\n",
        "        if (state==0):\n",
        "            # car in vision\n",
        "            self.chase(dt, target_position, target_velocity, drone_positions, drone_velocities)\n",
        "        \n",
        "        elif (state==1):\n",
        "            # searching car\n",
        "            try:\n",
        "                normal_vector = Vector2.rotate(Vector2.normalize(last_target_velocity), 90)\n",
        "                virtual_target_position = last_target_position + k_spacing*(pow(-1, self.swarm_index)*floor((self.swarm_index+1)/2)*(1/ppu)*self.vision_radius)*normal_vector\n",
        "            except:\n",
        "                virtual_target_position = last_target_position.copy()\n",
        "            if (self.swarm_index==0):\n",
        "                virtual_target_position = last_target_position\n",
        "            self.chase(dt, virtual_target_position, last_target_velocity, drone_positions, drone_velocities)"
      ]
    },
    {
      "cell_type": "markdown",
      "metadata": {
        "id": "AOmix2WJwxcN"
      },
      "source": [
        "### Draw function\n",
        "\n",
        "Used to display either the image of the drone or the car on the screen, accordingly to the object's current attributes"
      ]
    },
    {
      "cell_type": "code",
      "execution_count": null,
      "metadata": {
        "id": "aVd5U1oEwxcN"
      },
      "outputs": [],
      "source": [
        "def draw(drone, car, car_image, drone_image, ppu, game, car_drawn=0):\n",
        "    if (car_drawn==1):\n",
        "        rotated_car = pygame.transform.rotate(car_image, car.angle)\n",
        "        rect = rotated_car.get_rect()\n",
        "        car_position = car.position * ppu\n",
        "        car_position = [car_position[0]%width, car_position[1]%height]\n",
        "        car_new_position =  [car_position[0] - rect.width/2, car_position[1] - rect.height/2]\n",
        "        game.screen.blit(rotated_car, car_new_position)\n",
        "\n",
        "    else:\n",
        "        rotated_drone = pygame.transform.rotate(drone_image, drone.angle)\n",
        "        rect = rotated_drone.get_rect()\n",
        "        drone_position = drone.position * ppu\n",
        "        drone_position = [drone_position[0]%width, drone_position[1]%height]\n",
        "        drone_new_position =  [drone_position[0] - rect.width/2, drone_position[1] - rect.height/2]\n",
        "        game.screen.blit(rotated_drone, drone_new_position)\n",
        "\n",
        "        if (Vector2.magnitude(drone.position - car.position)*ppu > drone.vision_radius):\n",
        "            color_0 = (255,0,0)\n",
        "        else:\n",
        "            color_0 = (0,255,0)\n",
        "        pygame.draw.circle(center = drone_position, radius=drone.vision_radius, surface=game.screen, color=color_0, width=1)\n",
        "    return"
      ]
    },
    {
      "cell_type": "markdown",
      "metadata": {
        "id": "7wxqqLfIwxcN"
      },
      "source": [
        "## Swarm related classes"
      ]
    },
    {
      "cell_type": "markdown",
      "metadata": {
        "id": "tKyvtQxcwxcN"
      },
      "source": [
        "### Swarm class"
      ]
    },
    {
      "cell_type": "code",
      "execution_count": null,
      "metadata": {
        "id": "NlTSLU9uwxcO"
      },
      "outputs": [],
      "source": [
        "class Swarm():\n",
        "    def __init__(self, N_drones_0, launch_position_0, scaling_drone=1, state_0, target_position_0=Vector2(0,0), zones_list):\n",
        "        self.swarm_list = []\n",
        "        self.drone_positions = []\n",
        "        self.drone_velocities = []\n",
        "        self.N_drones = N_drones_0\n",
        "        self.state = state_0\n",
        "        self.last_target_position = target_position_0\n",
        "        self.last_target_velocity = Vector2(0,0)\n",
        "        self.zones_list = zones_list\n",
        "\n",
        "        for i in range(self.N_drones):\n",
        "            position = launch_position_0 + np.random.normal(loc=0, scale=10, size=2)\n",
        "            x = position[0]\n",
        "            y = position[1]\n",
        "            self.swarm_list.append(Drone(x=x, y=y, scaling=scaling_drone, swarm_index_0=i))\n",
        "            self.drone_positions.append(self.swarm_list[i].position)\n",
        "            self.drone_velocities.append(self.swarm_list[i].velocity)\n",
        "\n",
        "    def assignment(self) :\n",
        "        '''Assigns each drone to a zone\n",
        "\n",
        "        Returns:\n",
        "              assignment_list (tuple (Drone, 2 dimension float list)): list of couples (drone, zone assigned)\n",
        "              list(set(drones_list) - set(assigned_drones)) (2 dimension Drone list): list of unassigned drones (if number of drones > number of zones)\n",
        "              zones_list (3 dimension float list): list of unassigned zones outline coordinates (if number of zones > number of drones)\n",
        "        '''\n",
        "        drones_list = self.swarm_list\n",
        "        zones_list = self.zones_list\n",
        "        if not drones_list or not zones_list :\n",
        "            print(\"No drone or no zone for assignment\")\n",
        "        assignment_list = []\n",
        "        assigned_drones = []\n",
        "        for drone in drones_list :\n",
        "            if zones_list : \n",
        "                d_min = computeDistance(drone, zones_list[0])\n",
        "                zone_min = zones_list[0]\n",
        "                for zone in zones_list :\n",
        "                    d = computeDistance(drone, zone)\n",
        "                    if d < d_min :\n",
        "                        d_min = d\n",
        "                        zone_min = zone\n",
        "                zones_list.remove(zone_min)\n",
        "                assigned_drones.append(drone)\n",
        "                assignment_list.append((drone, zone_min))\n",
        "        return assignment_list, list(set(drones_list) - set(assigned_drones)), zones_list\n",
        "\n",
        "   \n",
        "    def update(self, dt, target_position, target_velocity, ppu) :\n",
        "        # Pursuit swarm\n",
        "        if (self.state == 0) :\n",
        "            for i in range(self.N_drones) :\n",
        "                if (Vector2.magnitude(self.swarm_list[i].position - target_position)*ppu < self.swarm_list[i].vision_radius) :\n",
        "                    self.last_target_position = target_position.copy()\n",
        "                    self.last_target_velocity = target_velocity.copy()\n",
        "                    self.state = 0\n",
        "\n",
        "            # ordering the drones so they are sorted along each associated virtual car\n",
        "            '''\n",
        "            affectation_dict = {}\n",
        "            if (self.state==0):\n",
        "                try:\n",
        "                    normal_vector = Vector2.rotate(Vector2.normalize(target_velocity), 90)\n",
        "                    for i in range(self.N_drones):\n",
        "                        affectation_dict[i] = Vector2.dot(self.swarm_list[i].position - target_position, normal_vector)\n",
        "                        sorted_dict = sorted(affectation_dict, key=lambda x:-x[1])\n",
        "\n",
        "                        tmp = []\n",
        "                        for i in range(self.N_drones):\n",
        "                            tmp.append(self.swarm_list[sorted_dict[i, 0]])\n",
        "                        self.swarm_list = tmp\n",
        "                except:\n",
        "                    pass\n",
        "            '''\n",
        "\n",
        "            '''\n",
        "            affectation_dict = {}\n",
        "            if (self.state==0):\n",
        "                try:\n",
        "                    colinear_vector = Vector2.normalize(target_velocity)\n",
        "                    normal_vector = Vector2.rotate(Vector2.normalize(target_velocity), 90)\n",
        "                \n",
        "                    #Calculate the first virtual car position\n",
        "                    try:\n",
        "                        if ((N_drones % 2)==1):\n",
        "                            first_virtual_position = target_position + k_spacing*(pow(-1, N_drones)*floor((N_drones+1)/2)*(1/ppu)*self.vision_radius)*normal_vector\n",
        "                        else:\n",
        "                            first_virtual_position = target_position + k_spacing*(pow(-1, N_drones - 1)*floor(N_drones/2)*(1/ppu)*self.vision_radius)*normal_vector\n",
        "                    except:\n",
        "                        first_virtual_position = target_position\n",
        "                    #first_virtual_position = target_position\n",
        "                    #Calculate the signed distance between the first virtual car position and the i_th drone projection \n",
        "                    for i in range(self.N_drones):\n",
        "                        if (normal_vector[0]!=0):\n",
        "                            a = colinear_vector[1]/colinear_vector[0]\n",
        "                            b = target_position[1] - target_position[0]*a\n",
        "                            alpha = atan2(normal_vector[1], normal_vector[0])\n",
        "                            p = abs(self.swarm_list[i].position[0] - (self.swarm_list[1] - b)/a)*sin(alpha)\n",
        "                            tmp_position = self.swarm_list[i].position + p*colinear_vector\n",
        "                            affectation_dict[i] = Vector2.dot(tmp_position - first_virtual_position, colinear_vector)\n",
        "                        else:\n",
        "                            affectation_dict[i] = first_virtual_position[1] - self.swarm_list[i].position[1]\n",
        "\n",
        "                        #sorting the dictionary along the calculated distances\n",
        "                        sorted_dict = sorted(affectation_dict, key=lambda x:x[1])\n",
        "\n",
        "                        #reindexing the drone swarm list following the newly calculated indexation\n",
        "                        tmp_list = []\n",
        "                        for i in range(self.N_drones):\n",
        "                            tmp_list.append(self.swarm_list[sorted_dict[i, 0]])\n",
        "                        self.swarm_list = tmp_list\n",
        "                except:\n",
        "                    pass\n",
        "            '''\n",
        "        \n",
        "\n",
        "            for i in range(self.N_drones):\n",
        "                self.swarm_list[i].update(dt, target_position, target_velocity,\n",
        "                                        ppu=ppu,\n",
        "                                        last_target_position=self.last_target_position,\n",
        "                                        last_target_velocity=self.last_target_velocity,\n",
        "                                        drone_positions=self.drone_positions,\n",
        "                                        drone_velocities=self.drone_velocities,\n",
        "                                        state=self.state,)\n",
        "                self.drone_positions[i] = self.swarm_list[i].position\n",
        "                self.drone_velocities[i] = self.swarm_list[i].velocity\n",
        "                \n",
        "        if (self.state == 1):\n",
        "                self.last_target_position += self.last_target_velocity*dt\n",
        "\n",
        "        # Cartography swarm\n",
        "        elif(self.state == 2) :\n",
        "            assignment_list, self.swarm_list, self.zones_list = self.assignment()\n",
        "            self.state = 0\n",
        "        \n",
        "\n",
        "    def draw(self, car, car_image, drone_image, ppu, game):\n",
        "        for i in range(self.N_drones):\n",
        "            draw(drone=self.swarm_list[i], car=car, car_image=car_image, drone_image=drone_image, ppu=ppu, game=game, car_drawn=0)"
      ]
    },
    {
      "cell_type": "markdown",
      "metadata": {
        "id": "-_8JlSy-wxcO"
      },
      "source": [
        "### Swarm game"
      ]
    },
    {
      "cell_type": "code",
      "execution_count": null,
      "metadata": {
        "id": "-891YtiMwxcO"
      },
      "outputs": [],
      "source": [
        "class Swarm_game:\n",
        "    def __init__(self):\n",
        "        pygame.init()\n",
        "        pygame.display.set_caption(\"Drone pursuit\")\n",
        "        self.screen = pygame.display.set_mode((width, height))\n",
        "        self.clock = pygame.time.Clock()\n",
        "        self.ticks = 60\n",
        "        self.exit = False\n",
        "\n",
        "    def run(self):\n",
        "        car_image_path = \"car.png\"\n",
        "        drone_image_path = \"drone.png\"\n",
        "        car_image = pygame.image.load(car_image_path)\n",
        "        drone_image = pygame.image.load(drone_image_path)\n",
        "        taille_car = car_image.get_size()\n",
        "        scaling_car = 10\n",
        "        taille_car = [taille_car[0]/scaling_car, taille_car[1]/scaling_car]\n",
        "        car_image = pygame.transform.scale(car_image, taille_car)\n",
        "\n",
        "        taille_drone = drone_image.get_size()\n",
        "        scaling_drone = 10\n",
        "        taille_drone = [taille_drone[0]/scaling_drone, taille_drone[1]/scaling_drone]\n",
        "\n",
        "        car_image = pygame.transform.scale(car_image, taille_car)\n",
        "        drone_image = pygame.transform.scale(drone_image, taille_drone)\n",
        "\n",
        "        car = Vehicle(x=10, y=10, scaling=scaling_car)\n",
        "        swarm = Swarm(N_drones_0=N_drones, scaling_drone=scaling_drone, launch_position_0=launch_position, target_position_0=car.position)\n",
        "        ppu = 32\n",
        "\n",
        "        while not self.exit:\n",
        "            dt = self.clock.get_time() / 1000\n",
        "\n",
        "            # Event queue\n",
        "            for event in pygame.event.get():\n",
        "                if event.type == pygame.QUIT:\n",
        "                    self.exit = True\n",
        "\n",
        "            # Logic\n",
        "            car.update(dt)\n",
        "\n",
        "            swarm.update(dt, target_position=car.position, target_velocity=car.velocity, ppu=ppu)\n",
        "            \n",
        "            # Drawing\n",
        "            self.screen.fill((0, 0, 0))\n",
        "            draw(drone=0, car=car, car_image=car_image, drone_image=drone_image, ppu=ppu, game=self, car_drawn=1)\n",
        "            swarm.draw(car=car, car_image=car_image, drone_image=drone_image, ppu=ppu, game=self)\n",
        "            \n",
        "            pygame.display.flip()\n",
        "\n",
        "            self.clock.tick(self.ticks)\n",
        "        pygame.quit()"
      ]
    },
    {
      "cell_type": "markdown",
      "metadata": {
        "id": "mpLP7bnqwxcP"
      },
      "source": [
        "## Run swarm simulation"
      ]
    },
    {
      "cell_type": "code",
      "execution_count": null,
      "metadata": {
        "id": "5RnCUMkawxcP",
        "outputId": "320d0eb8-52f2-41aa-ec14-01ea0659c894"
      },
      "outputs": [
        {
          "name": "stderr",
          "output_type": "stream",
          "text": [
            "C:\\Users\\antho\\AppData\\Local\\Temp\\ipykernel_14376\\2101808511.py:63: RuntimeWarning: divide by zero encountered in double_scalars\n",
            "  collision_angle += -np.sign(angle)*k_front_angle*(1 + (1.0/del_position**2) + k_angle_velocity*(1.0/del_velocity**2))\n",
            "C:\\Users\\antho\\AppData\\Local\\Temp\\ipykernel_14376\\2101808511.py:63: RuntimeWarning: invalid value encountered in double_scalars\n",
            "  collision_angle += -np.sign(angle)*k_front_angle*(1 + (1.0/del_position**2) + k_angle_velocity*(1.0/del_velocity**2))\n"
          ]
        },
        {
          "ename": "KeyboardInterrupt",
          "evalue": "",
          "output_type": "error",
          "traceback": [
            "\u001b[1;31m---------------------------------------------------------------------------\u001b[0m",
            "\u001b[1;31mKeyboardInterrupt\u001b[0m                         Traceback (most recent call last)",
            "\u001b[1;32m~\\AppData\\Local\\Temp\\ipykernel_14376\\3592253716.py\u001b[0m in \u001b[0;36m<module>\u001b[1;34m\u001b[0m\n\u001b[0;32m      1\u001b[0m \u001b[0mgame\u001b[0m \u001b[1;33m=\u001b[0m \u001b[0mSwarm_game\u001b[0m\u001b[1;33m(\u001b[0m\u001b[1;33m)\u001b[0m\u001b[1;33m\u001b[0m\u001b[1;33m\u001b[0m\u001b[0m\n\u001b[1;32m----> 2\u001b[1;33m \u001b[0mgame\u001b[0m\u001b[1;33m.\u001b[0m\u001b[0mrun\u001b[0m\u001b[1;33m(\u001b[0m\u001b[1;33m)\u001b[0m\u001b[1;33m\u001b[0m\u001b[1;33m\u001b[0m\u001b[0m\n\u001b[0m",
            "\u001b[1;32m~\\AppData\\Local\\Temp\\ipykernel_14376\\1288369176.py\u001b[0m in \u001b[0;36mrun\u001b[1;34m(self)\u001b[0m\n\u001b[0;32m     47\u001b[0m             \u001b[0mswarm\u001b[0m\u001b[1;33m.\u001b[0m\u001b[0mdraw\u001b[0m\u001b[1;33m(\u001b[0m\u001b[0mcar\u001b[0m\u001b[1;33m=\u001b[0m\u001b[0mcar\u001b[0m\u001b[1;33m,\u001b[0m \u001b[0mcar_image\u001b[0m\u001b[1;33m=\u001b[0m\u001b[0mcar_image\u001b[0m\u001b[1;33m,\u001b[0m \u001b[0mdrone_image\u001b[0m\u001b[1;33m=\u001b[0m\u001b[0mdrone_image\u001b[0m\u001b[1;33m,\u001b[0m \u001b[0mppu\u001b[0m\u001b[1;33m=\u001b[0m\u001b[0mppu\u001b[0m\u001b[1;33m,\u001b[0m \u001b[0mgame\u001b[0m\u001b[1;33m=\u001b[0m\u001b[0mself\u001b[0m\u001b[1;33m)\u001b[0m\u001b[1;33m\u001b[0m\u001b[1;33m\u001b[0m\u001b[0m\n\u001b[0;32m     48\u001b[0m \u001b[1;33m\u001b[0m\u001b[0m\n\u001b[1;32m---> 49\u001b[1;33m             \u001b[0mpygame\u001b[0m\u001b[1;33m.\u001b[0m\u001b[0mdisplay\u001b[0m\u001b[1;33m.\u001b[0m\u001b[0mflip\u001b[0m\u001b[1;33m(\u001b[0m\u001b[1;33m)\u001b[0m\u001b[1;33m\u001b[0m\u001b[1;33m\u001b[0m\u001b[0m\n\u001b[0m\u001b[0;32m     50\u001b[0m \u001b[1;33m\u001b[0m\u001b[0m\n\u001b[0;32m     51\u001b[0m             \u001b[0mself\u001b[0m\u001b[1;33m.\u001b[0m\u001b[0mclock\u001b[0m\u001b[1;33m.\u001b[0m\u001b[0mtick\u001b[0m\u001b[1;33m(\u001b[0m\u001b[0mself\u001b[0m\u001b[1;33m.\u001b[0m\u001b[0mticks\u001b[0m\u001b[1;33m)\u001b[0m\u001b[1;33m\u001b[0m\u001b[1;33m\u001b[0m\u001b[0m\n",
            "\u001b[1;31mKeyboardInterrupt\u001b[0m: "
          ]
        }
      ],
      "source": [
        "game = Swarm_game()\n",
        "game.run()"
      ]
    }
  ],
  "metadata": {
    "colab": {
      "provenance": []
    },
    "kernelspec": {
      "display_name": "base",
      "language": "python",
      "name": "python3"
    },
    "language_info": {
      "codemirror_mode": {
        "name": "ipython",
        "version": 3
      },
      "file_extension": ".py",
      "mimetype": "text/x-python",
      "name": "python",
      "nbconvert_exporter": "python",
      "pygments_lexer": "ipython3",
      "version": "3.9.13"
    },
    "orig_nbformat": 4
  },
  "nbformat": 4,
  "nbformat_minor": 0
}

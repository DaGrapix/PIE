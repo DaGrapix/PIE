{
 "cells": [
  {
   "cell_type": "code",
   "execution_count": 39,
   "metadata": {},
   "outputs": [],
   "source": [
    "from math import *\n",
    "import pygame\n",
    "import random\n",
    "import sys\n",
    "import numpy as np\n",
    "import os"
   ]
  },
  {
   "cell_type": "code",
   "execution_count": 40,
   "metadata": {},
   "outputs": [],
   "source": [
    "def rotate(vector, theta):\n",
    "        theta = theta/1000\n",
    "        Rotation_matrix = np.matrix([[cos(theta), -sin(theta)], [sin(theta), cos(theta)]])\n",
    "        return(np.squeeze(np.asarray(Rotation_matrix@vector)))"
   ]
  },
  {
   "cell_type": "code",
   "execution_count": 41,
   "metadata": {},
   "outputs": [],
   "source": [
    "class Car:\n",
    "    def __init__(self, position_0, angle=0.0, length=4, max_steering=30, max_acceleration=5.0, scaling=1, max_velocity_0=20):\n",
    "        self.position = position_0\n",
    "        self.velocity = np.array([0.0, 0.0])\n",
    "        self.angle = angle\n",
    "        self.length = length\n",
    "        self.max_acceleration = max_acceleration\n",
    "        self.max_steering = max_steering\n",
    "        self.max_velocity =  max_velocity_0/scaling\n",
    "        self.brake_deceleration = 10\n",
    "        self.free_deceleration = 2\n",
    "\n",
    "        self.acceleration = 0.0\n",
    "        self.steering = 0.0\n",
    "\n",
    "    def update(self, dt, scaling):\n",
    "        # User input\n",
    "        pressed = pygame.key.get_pressed()\n",
    "\n",
    "        if pressed[pygame.K_UP]:\n",
    "            if self.velocity[0] < 0:\n",
    "                self.acceleration = self.brake_deceleration\n",
    "            else:\n",
    "                self.acceleration += (1/scaling) * dt\n",
    "        elif pressed[pygame.K_DOWN]:\n",
    "            if self.velocity[0] > 0:\n",
    "                self.acceleration = -self.brake_deceleration\n",
    "            else:\n",
    "                self.acceleration -= (1/scaling) * dt\n",
    "        elif pressed[pygame.K_SPACE]:\n",
    "            if abs(self.velocity[0]) > dt * self.brake_deceleration:\n",
    "                self.acceleration = -copysign(self.brake_deceleration, self.velocity[0])\n",
    "            else:\n",
    "                self.acceleration = -self.velocity[0] / dt\n",
    "        else:\n",
    "            if abs(self.velocity[0]) > dt * self.free_deceleration:\n",
    "                self.acceleration = -copysign(self.free_deceleration, self.velocity[0])\n",
    "            else:\n",
    "                if dt != 0:\n",
    "                    self.acceleration = -self.velocity[0] / dt\n",
    "        self.acceleration = max(-self.max_acceleration, min(self.acceleration, self.max_acceleration))\n",
    "\n",
    "        if pressed[pygame.K_RIGHT]:\n",
    "            self.steering -= 30 * dt\n",
    "        elif pressed[pygame.K_LEFT]:\n",
    "            self.steering += 30 * dt\n",
    "        else:\n",
    "            self.steering = 0\n",
    "        self.steering = max(-self.max_steering, min(self.steering, self.max_steering))\n",
    "\n",
    "\n",
    "\n",
    "        self.velocity += np.array([self.acceleration * dt, 0])\n",
    "        self.velocity[0] = max(-self.max_velocity, min(self.velocity[0], self.max_velocity))\n",
    "\n",
    "        if self.steering:\n",
    "            turning_radius = self.length / sin(radians(self.steering))\n",
    "            angular_velocity = self.velocity[0] / turning_radius\n",
    "        else:\n",
    "            angular_velocity = 0\n",
    "\n",
    "        self.position += rotate(self.velocity, -self.angle) * dt\n",
    "        self.angle += degrees(angular_velocity) * dt\n",
    "    \n",
    "    def draw(self, car_image, ppu, game):\n",
    "        rotated_car = pygame.transform.rotate(car_image, self.angle)\n",
    "        rect = rotated_car.get_rect()\n",
    "        game.screen.blit(rotated_car, self.position * ppu - (rect.width / 2, rect.height / 2))\n",
    "        return"
   ]
  },
  {
   "cell_type": "code",
   "execution_count": 42,
   "metadata": {},
   "outputs": [],
   "source": [
    "class Game:\n",
    "    def __init__(self):\n",
    "        pygame.init()\n",
    "        pygame.display.set_caption(\"Drone pursuit\")\n",
    "        width = 1280\n",
    "        height = 720\n",
    "        self.screen = pygame.display.set_mode((width, height))\n",
    "        self.clock = pygame.time.Clock()\n",
    "        self.ticks = 60\n",
    "        self.exit = False\n",
    "\n",
    "    def run(self):\n",
    "        current_dir = os.getcwd()\n",
    "        car_image_path = os.path.join(current_dir, \"car.png\")\n",
    "        car_image = pygame.image.load(car_image_path)\n",
    "        taille = car_image.get_size()\n",
    "        scaling = 10\n",
    "        taille = [taille[0]/scaling, taille[1]/scaling]\n",
    "        car_image = pygame.transform.scale(car_image, taille)\n",
    "        car = Car(0, 0, scaling=scaling)\n",
    "        ppu = 32\n",
    "\n",
    "        while not self.exit:\n",
    "            dt = self.clock.get_time() / 1000\n",
    "\n",
    "            # Event queue\n",
    "            for event in pygame.event.get():\n",
    "                if event.type == pygame.QUIT:\n",
    "                    self.exit = True\n",
    "\n",
    "            # Logic\n",
    "            car.update(dt, scaling)\n",
    "\n",
    "            # Drawing\n",
    "            self.screen.fill((0, 0, 0))\n",
    "            car.draw(car_image, ppu, self)\n",
    "            \n",
    "            pygame.display.flip()\n",
    "\n",
    "            self.clock.tick(self.ticks)\n",
    "        pygame.quit()"
   ]
  },
  {
   "cell_type": "code",
   "execution_count": 43,
   "metadata": {},
   "outputs": [
    {
     "ename": "KeyboardInterrupt",
     "evalue": "",
     "output_type": "error",
     "traceback": [
      "\u001b[1;31m---------------------------------------------------------------------------\u001b[0m",
      "\u001b[1;31mKeyboardInterrupt\u001b[0m                         Traceback (most recent call last)",
      "\u001b[1;32m~\\AppData\\Local\\Temp\\ipykernel_13108\\2100323375.py\u001b[0m in \u001b[0;36m<module>\u001b[1;34m\u001b[0m\n\u001b[0;32m      1\u001b[0m \u001b[1;32mif\u001b[0m \u001b[0m__name__\u001b[0m \u001b[1;33m==\u001b[0m \u001b[1;34m'__main__'\u001b[0m\u001b[1;33m:\u001b[0m\u001b[1;33m\u001b[0m\u001b[1;33m\u001b[0m\u001b[0m\n\u001b[0;32m      2\u001b[0m     \u001b[0mgame\u001b[0m \u001b[1;33m=\u001b[0m \u001b[0mGame\u001b[0m\u001b[1;33m(\u001b[0m\u001b[1;33m)\u001b[0m\u001b[1;33m\u001b[0m\u001b[1;33m\u001b[0m\u001b[0m\n\u001b[1;32m----> 3\u001b[1;33m     \u001b[0mgame\u001b[0m\u001b[1;33m.\u001b[0m\u001b[0mrun\u001b[0m\u001b[1;33m(\u001b[0m\u001b[1;33m)\u001b[0m\u001b[1;33m\u001b[0m\u001b[1;33m\u001b[0m\u001b[0m\n\u001b[0m",
      "\u001b[1;32m~\\AppData\\Local\\Temp\\ipykernel_13108\\2513961881.py\u001b[0m in \u001b[0;36mrun\u001b[1;34m(self)\u001b[0m\n\u001b[0;32m     36\u001b[0m             \u001b[0mcar\u001b[0m\u001b[1;33m.\u001b[0m\u001b[0mdraw\u001b[0m\u001b[1;33m(\u001b[0m\u001b[0mcar_image\u001b[0m\u001b[1;33m,\u001b[0m \u001b[0mppu\u001b[0m\u001b[1;33m,\u001b[0m \u001b[0mself\u001b[0m\u001b[1;33m)\u001b[0m\u001b[1;33m\u001b[0m\u001b[1;33m\u001b[0m\u001b[0m\n\u001b[0;32m     37\u001b[0m \u001b[1;33m\u001b[0m\u001b[0m\n\u001b[1;32m---> 38\u001b[1;33m             \u001b[0mpygame\u001b[0m\u001b[1;33m.\u001b[0m\u001b[0mdisplay\u001b[0m\u001b[1;33m.\u001b[0m\u001b[0mflip\u001b[0m\u001b[1;33m(\u001b[0m\u001b[1;33m)\u001b[0m\u001b[1;33m\u001b[0m\u001b[1;33m\u001b[0m\u001b[0m\n\u001b[0m\u001b[0;32m     39\u001b[0m \u001b[1;33m\u001b[0m\u001b[0m\n\u001b[0;32m     40\u001b[0m             \u001b[0mself\u001b[0m\u001b[1;33m.\u001b[0m\u001b[0mclock\u001b[0m\u001b[1;33m.\u001b[0m\u001b[0mtick\u001b[0m\u001b[1;33m(\u001b[0m\u001b[0mself\u001b[0m\u001b[1;33m.\u001b[0m\u001b[0mticks\u001b[0m\u001b[1;33m)\u001b[0m\u001b[1;33m\u001b[0m\u001b[1;33m\u001b[0m\u001b[0m\n",
      "\u001b[1;31mKeyboardInterrupt\u001b[0m: "
     ]
    }
   ],
   "source": [
    "if __name__ == '__main__':\n",
    "    game = Game()\n",
    "    game.run()"
   ]
  },
  {
   "cell_type": "code",
   "execution_count": null,
   "metadata": {},
   "outputs": [
    {
     "data": {
      "text/plain": [
       "'c:\\\\Users\\\\antho\\\\Desktop\\\\ENSTA\\\\PIE'"
      ]
     },
     "execution_count": 33,
     "metadata": {},
     "output_type": "execute_result"
    }
   ],
   "source": [
    "os.getcwd()"
   ]
  }
 ],
 "metadata": {
  "kernelspec": {
   "display_name": "base",
   "language": "python",
   "name": "python3"
  },
  "language_info": {
   "codemirror_mode": {
    "name": "ipython",
    "version": 3
   },
   "file_extension": ".py",
   "mimetype": "text/x-python",
   "name": "python",
   "nbconvert_exporter": "python",
   "pygments_lexer": "ipython3",
   "version": "3.9.13"
  },
  "orig_nbformat": 4
 },
 "nbformat": 4,
 "nbformat_minor": 2
}

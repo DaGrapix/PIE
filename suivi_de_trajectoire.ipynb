{
  "nbformat": 4,
  "nbformat_minor": 0,
  "metadata": {
    "colab": {
      "provenance": []
    },
    "kernelspec": {
      "name": "python3",
      "display_name": "Python 3"
    },
    "language_info": {
      "name": "python"
    }
  },
  "cells": [
    {
      "cell_type": "markdown",
      "source": [
        "# Suivi de Trajectoire"
      ],
      "metadata": {
        "id": "bnf8P1wR4ncc"
      }
    },
    {
      "cell_type": "code",
      "source": [
        "#pip install pygame"
      ],
      "metadata": {
        "colab": {
          "base_uri": "https://localhost:8080/"
        },
        "id": "j6K4H96jyoMN",
        "outputId": "5301a029-11d8-445c-a4b5-c7464ec78747"
      },
      "execution_count": 2,
      "outputs": [
        {
          "output_type": "stream",
          "name": "stdout",
          "text": [
            "Looking in indexes: https://pypi.org/simple, https://us-python.pkg.dev/colab-wheels/public/simple/\n",
            "Collecting pygame\n",
            "  Downloading pygame-2.1.3-cp38-cp38-manylinux_2_17_x86_64.manylinux2014_x86_64.whl (13.7 MB)\n",
            "\u001b[2K     \u001b[90m━━━━━━━━━━━━━━━━━━━━━━━━━━━━━━━━━━━━━━━━\u001b[0m \u001b[32m13.7/13.7 MB\u001b[0m \u001b[31m52.4 MB/s\u001b[0m eta \u001b[36m0:00:00\u001b[0m\n",
            "\u001b[?25hInstalling collected packages: pygame\n",
            "Successfully installed pygame-2.1.3\n"
          ]
        }
      ]
    },
    {
      "cell_type": "code",
      "source": [
        "import math\n",
        "import matplotlib.pyplot as plt\n",
        "import pygame\n",
        "import random"
      ],
      "metadata": {
        "id": "hkVUQfSu5CkW"
      },
      "execution_count": 7,
      "outputs": []
    },
    {
      "cell_type": "code",
      "source": [
        "class cible:\n",
        "  def __init__(self, speed_0, position_0, acceleration_0):\n",
        "    self.speed = speed_0\n",
        "    self.position = position_0\n",
        "    self.acceleration = acceleration_0\n"
      ],
      "metadata": {
        "id": "ARwLyg3G5JcU"
      },
      "execution_count": 5,
      "outputs": []
    },
    {
      "cell_type": "code",
      "source": [
        "class drone:\n",
        "  trajectory = []\n",
        "  def __init__(self, speed_0, position_0, acceleration_0):\n",
        "    self.speed = speed_0\n",
        "    self.position = position_0\n",
        "    self.acceleration = acceleration_0\n",
        "    self.altitude = altitude_0\n",
        "  self.vision_radius = "
      ],
      "metadata": {
        "id": "M3E3_KuB6c13"
      },
      "execution_count": null,
      "outputs": []
    },
    {
      "cell_type": "markdown",
      "source": [
        "# TESTS"
      ],
      "metadata": {
        "id": "Dl99rmTbzlOi"
      }
    },
    {
      "cell_type": "code",
      "source": [
        "c1 = class cible(0,0,0)\n",
        "print(c1)"
      ],
      "metadata": {
        "colab": {
          "base_uri": "https://localhost:8080/",
          "height": 131
        },
        "id": "LYeLLjPCzoEu",
        "outputId": "1fb3267d-88b4-42d5-f22d-7f4d77b7baa5"
      },
      "execution_count": 8,
      "outputs": [
        {
          "output_type": "error",
          "ename": "SyntaxError",
          "evalue": "ignored",
          "traceback": [
            "\u001b[0;36m  File \u001b[0;32m\"<ipython-input-8-bc97adcf93b8>\"\u001b[0;36m, line \u001b[0;32m1\u001b[0m\n\u001b[0;31m    c1 = class cible(0,0,0)\u001b[0m\n\u001b[0m         ^\u001b[0m\n\u001b[0;31mSyntaxError\u001b[0m\u001b[0;31m:\u001b[0m invalid syntax\n"
          ]
        }
      ]
    }
  ]
}
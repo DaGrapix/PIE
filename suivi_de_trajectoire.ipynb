{
  "cells": [
    {
      "cell_type": "markdown",
      "metadata": {
        "id": "bnf8P1wR4ncc"
      },
      "source": [
        "# Suivi de Trajectoire"
      ]
    },
    {
      "cell_type": "code",
      "execution_count": 1,
      "metadata": {
        "colab": {
          "base_uri": "https://localhost:8080/"
        },
        "id": "j6K4H96jyoMN",
        "outputId": "5301a029-11d8-445c-a4b5-c7464ec78747"
      },
      "outputs": [],
      "source": [
        "#pip install pygame"
      ]
    },
    {
      "cell_type": "code",
      "execution_count": 2,
      "metadata": {
        "id": "hkVUQfSu5CkW"
      },
      "outputs": [
        {
          "name": "stdout",
          "output_type": "stream",
          "text": [
            "pygame 2.1.2 (SDL 2.0.18, Python 3.9.13)\n",
            "Hello from the pygame community. https://www.pygame.org/contribute.html\n"
          ]
        }
      ],
      "source": [
        "import math\n",
        "import matplotlib.pyplot as plt\n",
        "import pygame\n",
        "import random\n",
        "import sys\n",
        "import numpy as np\n",
        "from math import sin, radians, degrees, copysign\n",
        "from pygame.math import Vector2"
      ]
    },
    {
      "cell_type": "code",
      "execution_count": 3,
      "metadata": {
        "id": "ARwLyg3G5JcU"
      },
      "outputs": [
        {
          "data": {
            "text/plain": [
              "'\\nclass cible:\\n    trajecory = []\\n    def __init__(self, speed_0, position_0, acceleration_0):\\n        self.speed = speed_0\\n        self.position = position_0\\n        self.acceleration = acceleration_0\\n    def trajectoire(self):\\n        print(self.trajectory)\\n'"
            ]
          },
          "execution_count": 3,
          "metadata": {},
          "output_type": "execute_result"
        }
      ],
      "source": [
        "'''\n",
        "class cible:\n",
        "    trajecory = []\n",
        "    def __init__(self, speed_0, position_0, acceleration_0):\n",
        "        self.speed = speed_0\n",
        "        self.position = position_0\n",
        "        self.acceleration = acceleration_0\n",
        "    def trajectoire(self):\n",
        "        print(self.trajectory)\n",
        "'''"
      ]
    },
    {
      "cell_type": "code",
      "execution_count": 4,
      "metadata": {},
      "outputs": [],
      "source": [
        "del_t = 1\n",
        "k_x = 0.0001\n",
        "k_v = 0.00001\n",
        "k_col = 0.1\n",
        "EPSILON = 10\n",
        "N_drones = 20"
      ]
    },
    {
      "cell_type": "code",
      "execution_count": 5,
      "metadata": {
        "id": "M3E3_KuB6c13"
      },
      "outputs": [],
      "source": [
        "class drone:\n",
        "    trajectory = []\n",
        "    def __init__(self, position_0, altitude_0=0.0, angle_0=0.0, speed_0=np.zeros(2), acceleration_0=np.zeros(2)):\n",
        "        self.angle = angle_0\n",
        "        self.speed = speed_0\n",
        "        self.position = position_0\n",
        "        self.acceleration = acceleration_0\n",
        "        self.altitude = altitude_0\n",
        "        self.max_speed_value = 0.5\n",
        "        self.min_speed_value = 0.1\n",
        "        #(120, 30, 190)\n",
        "        self.color = (250, 0, 0)\n",
        "        self.rect = pygame.Rect(self.position[0], self.position[1], 10, 10)\n",
        "        self.max_speed = np.array([self.max_speed_value, self.max_speed_value])\n",
        "        self.min_speed = np.array([self.min_speed_value, self.min_speed_value])\n",
        "\n",
        "    def radius(self):\n",
        "        return 10\n",
        "    \n",
        "    def draw(self, win):\n",
        "        pygame.draw.circle(win, self.color, self.position, 1)\n",
        "\n",
        "    def update(self, target_position, target_speed, drone_positions, N_drones):\n",
        "        old_pos = self.position\n",
        "        del_x = target_position - self.position\n",
        "        del_v = target_speed - self.speed\n",
        "        self.acceleration = k_x*del_x + k_v*del_v\n",
        "        for i in range(N_drones):\n",
        "            if(np.linalg.norm(self.position - drone_positions[i]) < EPSILON and np.linalg.norm(self.position - drone_positions[i])>0):\n",
        "                self.acceleration += (k_col/np.linalg.norm(self.position - drone_positions[i])**2)*(self.position - drone_positions[i])\n",
        "        \n",
        "        self.speed = self.speed + self.acceleration*del_t\n",
        "\n",
        "        self.speed = np.maximum(-self.max_speed, np.minimum(self.max_speed, self.speed))\n",
        "        #self.speed = self.speed + np.random.normal(loc=0.0, scale=0.1, size=2)\n",
        "        \n",
        "        self.position = self.position + self.speed*del_t + 0.5*del_t**2*self.acceleration\n",
        "\n",
        "        #self.orientation = (self.position - old_pos)/np.linalg.norm(self.position - old_pos)\n",
        "\n",
        "        self.rect = pygame.Rect(int(self.position[0]), int(self.position[1]), 32, 32)"
      ]
    },
    {
      "cell_type": "code",
      "execution_count": 6,
      "metadata": {},
      "outputs": [],
      "source": [
        "#Player Class\n",
        "class Player:\n",
        "    def __init__(self, x, y):\n",
        "        self.position = np.array([x, y])\n",
        "        self.rect = pygame.Rect(self.position[0], self.position[1], 20, 32)\n",
        "        self.color = (250, 120, 60)\n",
        "        self.speed = np.array([0, 0])\n",
        "        self.left_pressed = False\n",
        "        self.right_pressed = False\n",
        "        self.up_pressed = False\n",
        "        self.down_pressed = False\n",
        "        self.pace = 1\n",
        "    \n",
        "    def draw(self, win):\n",
        "        pygame.draw.rect(win, self.color, self.rect)\n",
        "    \n",
        "    def update(self):\n",
        "        self.speed = np.array([0, 0])\n",
        "        if self.left_pressed and not self.right_pressed:\n",
        "            self.speed[0] = -self.pace\n",
        "        if self.right_pressed and not self.left_pressed:\n",
        "            self.speed[0] = self.pace\n",
        "        if self.up_pressed and not self.down_pressed:\n",
        "            self.speed[1] = -self.pace\n",
        "        if self.down_pressed and not self.up_pressed:\n",
        "            self.speed[1] = self.pace\n",
        "\n",
        "        self.position[0] += self.speed[0]*del_t\n",
        "        self.position[1] += self.speed[1]*del_t\n",
        "\n",
        "        self.rect = pygame.Rect(int(self.position[0]), int(self.position[1]), 20, 32)"
      ]
    },
    {
      "cell_type": "code",
      "execution_count": 7,
      "metadata": {},
      "outputs": [],
      "source": [
        "class swarm():\n",
        "    def __init__(self, N_drones_0, launch_position_0):\n",
        "        self.swarm = []\n",
        "        self.drone_positions = []\n",
        "        self.N_drones = N_drones_0\n",
        "        for i in range(self.N_drones):\n",
        "            self.swarm.append(drone(position_0=launch_position_0 + np.random.normal(loc=0, scale=100, size=2), speed_0=np.zeros(2), acceleration_0=np.zeros(2)))\n",
        "            self.drone_positions.append(self.swarm[i].position)\n",
        "\n",
        "    def update(self, target_position, target_speed):\n",
        "        for i in range(self.N_drones):\n",
        "            self.swarm[i].update(target_position, target_speed, self.drone_positions, self.N_drones)\n",
        "            self.drone_positions[i] = self.swarm[i].position\n",
        "\n",
        "    def draw(self, win):\n",
        "        for i in range(self.N_drones):\n",
        "            self.swarm[i].draw(win)"
      ]
    },
    {
      "cell_type": "code",
      "execution_count": null,
      "metadata": {},
      "outputs": [],
      "source": [
        "class Car:\n",
        "    def __init__(self, x, y, angle=0.0, length=4, max_steering=30, max_acceleration=5.0, scaling=1):\n",
        "        self.position = Vector2(x, y)\n",
        "        self.velocity = Vector2(0.0, 0.0)\n",
        "        self.angle = angle\n",
        "        self.length = length\n",
        "        self.max_acceleration = max_acceleration\n",
        "        self.max_steering = max_steering\n",
        "        self.max_velocity = 20/scaling\n",
        "        self.brake_deceleration = 10\n",
        "        self.free_deceleration = 2\n",
        "\n",
        "        self.acceleration = 0.0\n",
        "        self.steering = 0.0\n",
        "\n",
        "    def update(self, dt):\n",
        "        self.velocity += (self.acceleration * dt, 0)\n",
        "        self.velocity.x = max(-self.max_velocity, min(self.velocity.x, self.max_velocity))\n",
        "\n",
        "        if self.steering:\n",
        "            turning_radius = self.length / sin(radians(self.steering))\n",
        "            angular_velocity = self.velocity.x / turning_radius\n",
        "        else:\n",
        "            angular_velocity = 0\n",
        "\n",
        "        self.position += self.velocity.rotate(-self.angle) * dt\n",
        "        self.angle += degrees(angular_velocity) * dt"
      ]
    },
    {
      "cell_type": "code",
      "execution_count": null,
      "metadata": {},
      "outputs": [],
      "source": [
        "class Game:\n",
        "    def __init__(self):\n",
        "        pygame.init()\n",
        "        pygame.display.set_caption(\"Drone pursuit\")\n",
        "        width = 1280\n",
        "        height = 720\n",
        "        self.screen = pygame.display.set_mode((width, height))\n",
        "        self.clock = pygame.time.Clock()\n",
        "        self.ticks = 60\n",
        "        self.exit = False\n",
        "\n",
        "    def run(self):\n",
        "        current_dir = os.path.dirname(os.path.abspath(__file__))\n",
        "        image_path = os.path.join(current_dir, \"car.png\")\n",
        "        car_image = pygame.image.load(image_path)\n",
        "        taille = car_image.get_size()\n",
        "        scaling = 10\n",
        "        taille = [taille[0]/scaling, taille[1]/scaling]\n",
        "        car_image = pygame.transform.scale(car_image, taille)\n",
        "        car = Car(0, 0, scaling=scaling)\n",
        "        ppu = 32\n",
        "\n",
        "        while not self.exit:\n",
        "            dt = self.clock.get_time() / 1000\n",
        "\n",
        "            # Event queue\n",
        "            for event in pygame.event.get():\n",
        "                if event.type == pygame.QUIT:\n",
        "                    self.exit = True\n",
        "\n",
        "            # User input\n",
        "            pressed = pygame.key.get_pressed()\n",
        "\n",
        "            if pressed[pygame.K_UP]:\n",
        "                if car.velocity.x < 0:\n",
        "                    car.acceleration = car.brake_deceleration\n",
        "                else:\n",
        "                    car.acceleration += (1/scaling) * dt\n",
        "            elif pressed[pygame.K_DOWN]:\n",
        "                if car.velocity.x > 0:\n",
        "                    car.acceleration = -car.brake_deceleration\n",
        "                else:\n",
        "                    car.acceleration -= (1/scaling) * dt\n",
        "            elif pressed[pygame.K_SPACE]:\n",
        "                if abs(car.velocity.x) > dt * car.brake_deceleration:\n",
        "                    car.acceleration = -copysign(car.brake_deceleration, car.velocity.x)\n",
        "                else:\n",
        "                    car.acceleration = -car.velocity.x / dt\n",
        "            else:\n",
        "                if abs(car.velocity.x) > dt * car.free_deceleration:\n",
        "                    car.acceleration = -copysign(car.free_deceleration, car.velocity.x)\n",
        "                else:\n",
        "                    if dt != 0:\n",
        "                        car.acceleration = -car.velocity.x / dt\n",
        "            car.acceleration = max(-car.max_acceleration, min(car.acceleration, car.max_acceleration))\n",
        "\n",
        "            if pressed[pygame.K_RIGHT]:\n",
        "                car.steering -= 30 * dt\n",
        "            elif pressed[pygame.K_LEFT]:\n",
        "                car.steering += 30 * dt\n",
        "            else:\n",
        "                car.steering = 0\n",
        "            car.steering = max(-car.max_steering, min(car.steering, car.max_steering))\n",
        "\n",
        "            # Logic\n",
        "            car.update(dt)\n",
        "\n",
        "            # Drawing\n",
        "            self.screen.fill((0, 0, 0))\n",
        "            rotated_car = pygame.transform.rotate(car_image, car.angle)\n",
        "            rect = rotated_car.get_rect()\n",
        "            self.screen.blit(rotated_car, car.position * ppu - (rect.width / 2, rect.height / 2))\n",
        "            pygame.display.flip()\n",
        "\n",
        "            self.clock.tick(self.ticks)\n",
        "        pygame.quit()"
      ]
    },
    {
      "cell_type": "code",
      "execution_count": 8,
      "metadata": {},
      "outputs": [
        {
          "ename": "KeyboardInterrupt",
          "evalue": "",
          "output_type": "error",
          "traceback": [
            "\u001b[1;31m---------------------------------------------------------------------------\u001b[0m",
            "\u001b[1;31mKeyboardInterrupt\u001b[0m                         Traceback (most recent call last)",
            "\u001b[1;32m~\\AppData\\Local\\Temp\\ipykernel_5308\\2713880294.py\u001b[0m in \u001b[0;36m<module>\u001b[1;34m\u001b[0m\n\u001b[0;32m     56\u001b[0m     \u001b[1;31m#update\u001b[0m\u001b[1;33m\u001b[0m\u001b[1;33m\u001b[0m\u001b[0m\n\u001b[0;32m     57\u001b[0m     \u001b[0mplayer\u001b[0m\u001b[1;33m.\u001b[0m\u001b[0mupdate\u001b[0m\u001b[1;33m(\u001b[0m\u001b[1;33m)\u001b[0m\u001b[1;33m\u001b[0m\u001b[1;33m\u001b[0m\u001b[0m\n\u001b[1;32m---> 58\u001b[1;33m     \u001b[0mswarm\u001b[0m\u001b[1;33m.\u001b[0m\u001b[0mupdate\u001b[0m\u001b[1;33m(\u001b[0m\u001b[0mplayer\u001b[0m\u001b[1;33m.\u001b[0m\u001b[0mposition\u001b[0m\u001b[1;33m,\u001b[0m \u001b[0mplayer\u001b[0m\u001b[1;33m.\u001b[0m\u001b[0mspeed\u001b[0m\u001b[1;33m)\u001b[0m\u001b[1;33m\u001b[0m\u001b[1;33m\u001b[0m\u001b[0m\n\u001b[0m\u001b[0;32m     59\u001b[0m     \u001b[0mpygame\u001b[0m\u001b[1;33m.\u001b[0m\u001b[0mdisplay\u001b[0m\u001b[1;33m.\u001b[0m\u001b[0mflip\u001b[0m\u001b[1;33m(\u001b[0m\u001b[1;33m)\u001b[0m\u001b[1;33m\u001b[0m\u001b[1;33m\u001b[0m\u001b[0m\n\u001b[0;32m     60\u001b[0m \u001b[1;33m\u001b[0m\u001b[0m\n",
            "\u001b[1;32m~\\AppData\\Local\\Temp\\ipykernel_5308\\1345287123.py\u001b[0m in \u001b[0;36mupdate\u001b[1;34m(self, target_position, target_speed)\u001b[0m\n\u001b[0;32m     10\u001b[0m     \u001b[1;32mdef\u001b[0m \u001b[0mupdate\u001b[0m\u001b[1;33m(\u001b[0m\u001b[0mself\u001b[0m\u001b[1;33m,\u001b[0m \u001b[0mtarget_position\u001b[0m\u001b[1;33m,\u001b[0m \u001b[0mtarget_speed\u001b[0m\u001b[1;33m)\u001b[0m\u001b[1;33m:\u001b[0m\u001b[1;33m\u001b[0m\u001b[1;33m\u001b[0m\u001b[0m\n\u001b[0;32m     11\u001b[0m         \u001b[1;32mfor\u001b[0m \u001b[0mi\u001b[0m \u001b[1;32min\u001b[0m \u001b[0mrange\u001b[0m\u001b[1;33m(\u001b[0m\u001b[0mself\u001b[0m\u001b[1;33m.\u001b[0m\u001b[0mN_drones\u001b[0m\u001b[1;33m)\u001b[0m\u001b[1;33m:\u001b[0m\u001b[1;33m\u001b[0m\u001b[1;33m\u001b[0m\u001b[0m\n\u001b[1;32m---> 12\u001b[1;33m             \u001b[0mself\u001b[0m\u001b[1;33m.\u001b[0m\u001b[0mswarm\u001b[0m\u001b[1;33m[\u001b[0m\u001b[0mi\u001b[0m\u001b[1;33m]\u001b[0m\u001b[1;33m.\u001b[0m\u001b[0mupdate\u001b[0m\u001b[1;33m(\u001b[0m\u001b[0mtarget_position\u001b[0m\u001b[1;33m,\u001b[0m \u001b[0mtarget_speed\u001b[0m\u001b[1;33m,\u001b[0m \u001b[0mself\u001b[0m\u001b[1;33m.\u001b[0m\u001b[0mdrone_positions\u001b[0m\u001b[1;33m,\u001b[0m \u001b[0mself\u001b[0m\u001b[1;33m.\u001b[0m\u001b[0mN_drones\u001b[0m\u001b[1;33m)\u001b[0m\u001b[1;33m\u001b[0m\u001b[1;33m\u001b[0m\u001b[0m\n\u001b[0m\u001b[0;32m     13\u001b[0m             \u001b[0mself\u001b[0m\u001b[1;33m.\u001b[0m\u001b[0mdrone_positions\u001b[0m\u001b[1;33m[\u001b[0m\u001b[0mi\u001b[0m\u001b[1;33m]\u001b[0m \u001b[1;33m=\u001b[0m \u001b[0mself\u001b[0m\u001b[1;33m.\u001b[0m\u001b[0mswarm\u001b[0m\u001b[1;33m[\u001b[0m\u001b[0mi\u001b[0m\u001b[1;33m]\u001b[0m\u001b[1;33m.\u001b[0m\u001b[0mposition\u001b[0m\u001b[1;33m\u001b[0m\u001b[1;33m\u001b[0m\u001b[0m\n\u001b[0;32m     14\u001b[0m \u001b[1;33m\u001b[0m\u001b[0m\n",
            "\u001b[1;32m~\\AppData\\Local\\Temp\\ipykernel_5308\\250106360.py\u001b[0m in \u001b[0;36mupdate\u001b[1;34m(self, target_position, target_speed, drone_positions, N_drones)\u001b[0m\n\u001b[0;32m     27\u001b[0m         \u001b[0mself\u001b[0m\u001b[1;33m.\u001b[0m\u001b[0macceleration\u001b[0m \u001b[1;33m=\u001b[0m \u001b[0mk_x\u001b[0m\u001b[1;33m*\u001b[0m\u001b[0mdel_x\u001b[0m \u001b[1;33m+\u001b[0m \u001b[0mk_v\u001b[0m\u001b[1;33m*\u001b[0m\u001b[0mdel_v\u001b[0m\u001b[1;33m\u001b[0m\u001b[1;33m\u001b[0m\u001b[0m\n\u001b[0;32m     28\u001b[0m         \u001b[1;32mfor\u001b[0m \u001b[0mi\u001b[0m \u001b[1;32min\u001b[0m \u001b[0mrange\u001b[0m\u001b[1;33m(\u001b[0m\u001b[0mN_drones\u001b[0m\u001b[1;33m)\u001b[0m\u001b[1;33m:\u001b[0m\u001b[1;33m\u001b[0m\u001b[1;33m\u001b[0m\u001b[0m\n\u001b[1;32m---> 29\u001b[1;33m             \u001b[1;32mif\u001b[0m\u001b[1;33m(\u001b[0m\u001b[0mnp\u001b[0m\u001b[1;33m.\u001b[0m\u001b[0mlinalg\u001b[0m\u001b[1;33m.\u001b[0m\u001b[0mnorm\u001b[0m\u001b[1;33m(\u001b[0m\u001b[0mself\u001b[0m\u001b[1;33m.\u001b[0m\u001b[0mposition\u001b[0m \u001b[1;33m-\u001b[0m \u001b[0mdrone_positions\u001b[0m\u001b[1;33m[\u001b[0m\u001b[0mi\u001b[0m\u001b[1;33m]\u001b[0m\u001b[1;33m)\u001b[0m \u001b[1;33m<\u001b[0m \u001b[0mEPSILON\u001b[0m \u001b[1;32mand\u001b[0m \u001b[0mnp\u001b[0m\u001b[1;33m.\u001b[0m\u001b[0mlinalg\u001b[0m\u001b[1;33m.\u001b[0m\u001b[0mnorm\u001b[0m\u001b[1;33m(\u001b[0m\u001b[0mself\u001b[0m\u001b[1;33m.\u001b[0m\u001b[0mposition\u001b[0m \u001b[1;33m-\u001b[0m \u001b[0mdrone_positions\u001b[0m\u001b[1;33m[\u001b[0m\u001b[0mi\u001b[0m\u001b[1;33m]\u001b[0m\u001b[1;33m)\u001b[0m\u001b[1;33m>\u001b[0m\u001b[1;36m0\u001b[0m\u001b[1;33m)\u001b[0m\u001b[1;33m:\u001b[0m\u001b[1;33m\u001b[0m\u001b[1;33m\u001b[0m\u001b[0m\n\u001b[0m\u001b[0;32m     30\u001b[0m                 \u001b[0mself\u001b[0m\u001b[1;33m.\u001b[0m\u001b[0macceleration\u001b[0m \u001b[1;33m+=\u001b[0m \u001b[1;33m(\u001b[0m\u001b[0mk_col\u001b[0m\u001b[1;33m/\u001b[0m\u001b[0mnp\u001b[0m\u001b[1;33m.\u001b[0m\u001b[0mlinalg\u001b[0m\u001b[1;33m.\u001b[0m\u001b[0mnorm\u001b[0m\u001b[1;33m(\u001b[0m\u001b[0mself\u001b[0m\u001b[1;33m.\u001b[0m\u001b[0mposition\u001b[0m \u001b[1;33m-\u001b[0m \u001b[0mdrone_positions\u001b[0m\u001b[1;33m[\u001b[0m\u001b[0mi\u001b[0m\u001b[1;33m]\u001b[0m\u001b[1;33m)\u001b[0m\u001b[1;33m**\u001b[0m\u001b[1;36m2\u001b[0m\u001b[1;33m)\u001b[0m\u001b[1;33m*\u001b[0m\u001b[1;33m(\u001b[0m\u001b[0mself\u001b[0m\u001b[1;33m.\u001b[0m\u001b[0mposition\u001b[0m \u001b[1;33m-\u001b[0m \u001b[0mdrone_positions\u001b[0m\u001b[1;33m[\u001b[0m\u001b[0mi\u001b[0m\u001b[1;33m]\u001b[0m\u001b[1;33m)\u001b[0m\u001b[1;33m\u001b[0m\u001b[1;33m\u001b[0m\u001b[0m\n\u001b[0;32m     31\u001b[0m \u001b[1;33m\u001b[0m\u001b[0m\n",
            "\u001b[1;32m<__array_function__ internals>\u001b[0m in \u001b[0;36mnorm\u001b[1;34m(*args, **kwargs)\u001b[0m\n",
            "\u001b[1;32mc:\\Users\\antho\\anaconda3\\lib\\site-packages\\numpy\\linalg\\linalg.py\u001b[0m in \u001b[0;36mnorm\u001b[1;34m(x, ord, axis, keepdims)\u001b[0m\n\u001b[0;32m   2528\u001b[0m                 \u001b[0msqnorm\u001b[0m \u001b[1;33m=\u001b[0m \u001b[0mdot\u001b[0m\u001b[1;33m(\u001b[0m\u001b[0mx\u001b[0m\u001b[1;33m.\u001b[0m\u001b[0mreal\u001b[0m\u001b[1;33m,\u001b[0m \u001b[0mx\u001b[0m\u001b[1;33m.\u001b[0m\u001b[0mreal\u001b[0m\u001b[1;33m)\u001b[0m \u001b[1;33m+\u001b[0m \u001b[0mdot\u001b[0m\u001b[1;33m(\u001b[0m\u001b[0mx\u001b[0m\u001b[1;33m.\u001b[0m\u001b[0mimag\u001b[0m\u001b[1;33m,\u001b[0m \u001b[0mx\u001b[0m\u001b[1;33m.\u001b[0m\u001b[0mimag\u001b[0m\u001b[1;33m)\u001b[0m\u001b[1;33m\u001b[0m\u001b[1;33m\u001b[0m\u001b[0m\n\u001b[0;32m   2529\u001b[0m             \u001b[1;32melse\u001b[0m\u001b[1;33m:\u001b[0m\u001b[1;33m\u001b[0m\u001b[1;33m\u001b[0m\u001b[0m\n\u001b[1;32m-> 2530\u001b[1;33m                 \u001b[0msqnorm\u001b[0m \u001b[1;33m=\u001b[0m \u001b[0mdot\u001b[0m\u001b[1;33m(\u001b[0m\u001b[0mx\u001b[0m\u001b[1;33m,\u001b[0m \u001b[0mx\u001b[0m\u001b[1;33m)\u001b[0m\u001b[1;33m\u001b[0m\u001b[1;33m\u001b[0m\u001b[0m\n\u001b[0m\u001b[0;32m   2531\u001b[0m             \u001b[0mret\u001b[0m \u001b[1;33m=\u001b[0m \u001b[0msqrt\u001b[0m\u001b[1;33m(\u001b[0m\u001b[0msqnorm\u001b[0m\u001b[1;33m)\u001b[0m\u001b[1;33m\u001b[0m\u001b[1;33m\u001b[0m\u001b[0m\n\u001b[0;32m   2532\u001b[0m             \u001b[1;32mif\u001b[0m \u001b[0mkeepdims\u001b[0m\u001b[1;33m:\u001b[0m\u001b[1;33m\u001b[0m\u001b[1;33m\u001b[0m\u001b[0m\n",
            "\u001b[1;32m<__array_function__ internals>\u001b[0m in \u001b[0;36mdot\u001b[1;34m(*args, **kwargs)\u001b[0m\n",
            "\u001b[1;31mKeyboardInterrupt\u001b[0m: "
          ]
        }
      ],
      "source": [
        "\"\"\"Pygame window initialisation\"\"\"\n",
        "#Constants\n",
        "WIDTH, HEIGHT = 1200, 800\n",
        "TITLE = \"Drone pursuit\"\n",
        "\n",
        "#pygame initialization\n",
        "pygame.init()\n",
        "win = pygame.display.set_mode((WIDTH, HEIGHT))\n",
        "pygame.display.set_caption(TITLE)\n",
        "clock = pygame.time.Clock()\n",
        "\n",
        "##################################################\n",
        "#Object initialisation\n",
        "player = Player(WIDTH/2, HEIGHT/2)\n",
        "swarm = swarm(N_drones, np.array([WIDTH/2, HEIGHT/2]))\n",
        "##################################################\n",
        "\n",
        "#Main Loop\n",
        "while True:\n",
        "\n",
        "    for event in pygame.event.get():\n",
        "        if event.type == pygame.QUIT:\n",
        "            pygame.quit()\n",
        "            sys.exit()\n",
        "        if event.type == pygame.KEYDOWN:\n",
        "            if event.key == pygame.K_LEFT:\n",
        "                player.left_pressed = True\n",
        "            if event.key == pygame.K_RIGHT:\n",
        "                player.right_pressed = True\n",
        "            if event.key == pygame.K_UP:\n",
        "                player.up_pressed = True\n",
        "            if event.key == pygame.K_DOWN:\n",
        "                player.down_pressed = True\n",
        "        if event.type == pygame.KEYUP:\n",
        "            if event.key == pygame.K_LEFT:\n",
        "                player.left_pressed = False\n",
        "            if event.key == pygame.K_RIGHT:\n",
        "                player.right_pressed = False\n",
        "            if event.key == pygame.K_UP:\n",
        "                player.up_pressed = False\n",
        "            if event.key == pygame.K_DOWN:\n",
        "                player.down_pressed = False\n",
        "        \n",
        "    #Draw\n",
        "    win.fill((0,0,0))  \n",
        "    player.draw(win)\n",
        "    swarm.draw(win)\n",
        "    font = pygame.font.SysFont(\"Verdana\", 20)\n",
        "    text = font.render(str(int(clock.get_fps())), True, (255,255,255))\n",
        "    win.blit(text, (0,0))\n",
        "\n",
        "    #update\n",
        "    player.update()\n",
        "    swarm.update(player.position, player.speed)\n",
        "    pygame.display.flip()\n",
        "    \n",
        "\n",
        "    clock.tick(200)"
      ]
    },
    {
      "cell_type": "code",
      "execution_count": null,
      "metadata": {},
      "outputs": [],
      "source": [
        "import pygame\n",
        "import math\n",
        "\n",
        "def rotate_triangle(center, scale, mouse_pos):\n",
        "\n",
        "    vMouse  = pygame.math.Vector2(mouse_pos)\n",
        "    vCenter = pygame.math.Vector2(center)\n",
        "    angle   = pygame.math.Vector2().angle_to(vMouse - vCenter)\n",
        "\n",
        "    points = [(-0.5, -0.866), (-0.5, 0.866), (2.0, 0.0)]\n",
        "    rotated_point = [pygame.math.Vector2(p).rotate(angle) for p in points]\n",
        "\n",
        "    triangle_points = [(vCenter + p*scale) for p in rotated_point]\n",
        "    return triangle_points\n",
        "\n",
        "disp=pygame.display.set_mode((200,200))\n",
        "\n",
        "run = True\n",
        "while run:\n",
        "\n",
        "    for event in pygame.event.get():\n",
        "        if event.type == pygame.QUIT:\n",
        "            run = False\n",
        "\n",
        "    mouse_position = pygame.mouse.get_pos()\n",
        "    points = rotate_triangle((100, 100), 10, mouse_position)\n",
        "\n",
        "    pygame.Surface.fill(disp, (255,255,255))\n",
        "    pygame.draw.polygon(disp, (0,0,0), points)\n",
        "    pygame.display.update()"
      ]
    },
    {
      "cell_type": "code",
      "execution_count": null,
      "metadata": {},
      "outputs": [],
      "source": []
    }
  ],
  "metadata": {
    "colab": {
      "provenance": []
    },
    "kernelspec": {
      "display_name": "base",
      "language": "python",
      "name": "python3"
    },
    "language_info": {
      "codemirror_mode": {
        "name": "ipython",
        "version": 3
      },
      "file_extension": ".py",
      "mimetype": "text/x-python",
      "name": "python",
      "nbconvert_exporter": "python",
      "pygments_lexer": "ipython3",
      "version": "3.9.13"
    },
    "vscode": {
      "interpreter": {
        "hash": "e86a25bf2cd4bc761420a9f9e4dfd048d62ee8348594e72ec02833304a144dc0"
      }
    }
  },
  "nbformat": 4,
  "nbformat_minor": 0
}

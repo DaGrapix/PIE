{
  "cells": [
    {
      "cell_type": "markdown",
      "metadata": {
        "id": "bnf8P1wR4ncc"
      },
      "source": [
        "# Suivi de Trajectoire"
      ]
    },
    {
      "cell_type": "code",
      "execution_count": 1,
      "metadata": {
        "colab": {
          "base_uri": "https://localhost:8080/"
        },
        "id": "j6K4H96jyoMN",
        "outputId": "5301a029-11d8-445c-a4b5-c7464ec78747"
      },
      "outputs": [],
      "source": [
        "#pip install pygame"
      ]
    },
    {
      "cell_type": "code",
      "execution_count": 1,
      "metadata": {
        "id": "hkVUQfSu5CkW"
      },
      "outputs": [
        {
          "name": "stdout",
          "output_type": "stream",
          "text": [
            "pygame 2.1.2 (SDL 2.0.18, Python 3.9.13)\n",
            "Hello from the pygame community. https://www.pygame.org/contribute.html\n"
          ]
        }
      ],
      "source": [
        "import math\n",
        "import matplotlib.pyplot as plt\n",
        "import pygame\n",
        "import random\n",
        "import numpy as np\n",
        "from math import sin, radians, degrees, copysign\n",
        "from pygame.math import Vector2"
      ]
    },
    {
      "cell_type": "code",
      "execution_count": 2,
      "metadata": {
        "id": "ARwLyg3G5JcU"
      },
      "outputs": [
        {
          "data": {
            "text/plain": [
              "'\\nclass cible:\\n    trajecory = []\\n    def __init__(self, speed_0, position_0, acceleration_0):\\n        self.speed = speed_0\\n        self.position = position_0\\n        self.acceleration = acceleration_0\\n    def trajectoire(self):\\n        print(self.trajectory)\\n'"
            ]
          },
          "execution_count": 2,
          "metadata": {},
          "output_type": "execute_result"
        }
      ],
      "source": [
        "'''\n",
        "class cible:\n",
        "    trajecory = []\n",
        "    def __init__(self, speed_0, position_0, acceleration_0):\n",
        "        self.speed = speed_0\n",
        "        self.position = position_0\n",
        "        self.acceleration = acceleration_0\n",
        "    def trajectoire(self):\n",
        "        print(self.trajectory)\n",
        "'''"
      ]
    },
    {
      "cell_type": "code",
      "execution_count": 3,
      "metadata": {},
      "outputs": [],
      "source": [
        "del_t = 1\n",
        "k_x = 0.0001\n",
        "k_v = 0.00001"
      ]
    },
    {
      "cell_type": "code",
      "execution_count": 4,
      "metadata": {
        "id": "M3E3_KuB6c13"
      },
      "outputs": [],
      "source": [
        "class drone:\n",
        "    trajectory = []\n",
        "    def __init__(self, position_0, speed_0, acceleration_0, altitude_0, orientation_0):\n",
        "        self.orientation = orientation_0\n",
        "        self.speed = speed_0\n",
        "        self.position = position_0\n",
        "        self.acceleration = acceleration_0\n",
        "        self.altitude = altitude_0\n",
        "        #(120, 30, 190)\n",
        "        self.color = (250, 0, 0)\n",
        "        self.rect = pygame.Rect(self.position[0], self.position[1], 10, 10)\n",
        "        self.max_speed = np.array([0.5, 0.5])\n",
        "        self.min_speed = np.array([0.1, 0.1])\n",
        "\n",
        "    def radius(self):\n",
        "        return 10\n",
        "    \n",
        "    def draw(self, win):\n",
        "        pygame.draw.circle(win, self.color, self.position, 1)\n",
        "\n",
        "    def update(self, target_position, target_speed):\n",
        "        old_pos = self.position\n",
        "        del_x = target_position - self.position\n",
        "        del_v = target_speed - self.speed\n",
        "        self.acceleration = k_x*del_x + k_v*del_v\n",
        "        \n",
        "        self.speed = self.speed + self.acceleration*del_t\n",
        "\n",
        "        self.speed = np.maximum(-self.max_speed, np.minimum(self.max_speed, self.speed))\n",
        "        #self.speed = self.speed + np.random.normal(loc=0.0, scale=0.1, size=2)\n",
        "        self.position = self.position + self.speed*del_t + 0.5*del_t**2*self.acceleration\n",
        "\n",
        "        self.orientation = (self.position - old_pos)/np.linalg.norm(self.position - old_pos)\n",
        "\n",
        "        self.rect = pygame.Rect(int(self.position[0]), int(self.position[1]), 32, 32)"
      ]
    },
    {
      "cell_type": "code",
      "execution_count": 5,
      "metadata": {},
      "outputs": [],
      "source": [
        "#Player Class\n",
        "class Player:\n",
        "    def __init__(self, x, y):\n",
        "        self.position = np.array([x, y])\n",
        "        self.rect = pygame.Rect(self.position[0], self.position[1], 20, 32)\n",
        "        self.color = (250, 120, 60)\n",
        "        self.speed = np.array([0, 0])\n",
        "        self.left_pressed = False\n",
        "        self.right_pressed = False\n",
        "        self.up_pressed = False\n",
        "        self.down_pressed = False\n",
        "        self.pace = 1\n",
        "    \n",
        "    def draw(self, win):\n",
        "        pygame.draw.rect(win, self.color, self.rect)\n",
        "    \n",
        "    def update(self):\n",
        "        self.speed = np.array([0, 0])\n",
        "        if self.left_pressed and not self.right_pressed:\n",
        "            self.speed[0] = -self.pace\n",
        "        if self.right_pressed and not self.left_pressed:\n",
        "            self.speed[0] = self.pace\n",
        "        if self.up_pressed and not self.down_pressed:\n",
        "            self.speed[1] = -self.pace\n",
        "        if self.down_pressed and not self.up_pressed:\n",
        "            self.speed[1] = self.pace\n",
        "\n",
        "        self.position[0] += self.speed[0]*del_t\n",
        "        self.position[1] += self.speed[1]*del_t\n",
        "\n",
        "        self.rect = pygame.Rect(int(self.position[0]), int(self.position[1]), 20, 32)"
      ]
    },
    {
      "cell_type": "code",
      "execution_count": 8,
      "metadata": {},
      "outputs": [],
      "source": [
        "class swarm():\n",
        "    def __init__(self, N_drones_0, launch_position_0):\n",
        "        self.swarm = []\n",
        "        self.N_drones = N_drones_0\n",
        "        for i in range(self.N_drones):\n",
        "            self.swarm.append(drone(launch_position_0 + np.random.normal(loc=0, scale=100, size=2), np.zeros(2), np.zeros(2), 0, np.zeros(2)))\n",
        "\n",
        "    def update(self, target_position, target_speed):\n",
        "        for i in range(self.N_drones):\n",
        "            self.swarm[i].update(target_position, target_speed)\n",
        "        \n",
        "    def draw(self, win):\n",
        "        for i in range(self.N_drones):\n",
        "            self.swarm[i].draw(win)\n",
        "    \n",
        "    \n",
        "    \n"
      ]
    },
    {
      "cell_type": "code",
      "execution_count": 9,
      "metadata": {},
      "outputs": [
        {
          "ename": "SystemExit",
          "evalue": "",
          "output_type": "error",
          "traceback": [
            "An exception has occurred, use %tb to see the full traceback.\n",
            "\u001b[1;31mSystemExit\u001b[0m\n"
          ]
        },
        {
          "name": "stderr",
          "output_type": "stream",
          "text": [
            "c:\\Users\\antho\\anaconda3\\lib\\site-packages\\IPython\\core\\interactiveshell.py:3465: UserWarning: To exit: use 'exit', 'quit', or Ctrl-D.\n",
            "  warn(\"To exit: use 'exit', 'quit', or Ctrl-D.\", stacklevel=1)\n"
          ]
        }
      ],
      "source": [
        "\"\"\"Pygame window initialisation\"\"\"\n",
        "\n",
        "#Imports\n",
        "import sys\n",
        "\n",
        "#Constants\n",
        "WIDTH, HEIGHT = 1200, 800\n",
        "TITLE = \"Drone pursuit\"\n",
        "\n",
        "#pygame initialization\n",
        "pygame.init()\n",
        "win = pygame.display.set_mode((WIDTH, HEIGHT))\n",
        "pygame.display.set_caption(TITLE)\n",
        "clock = pygame.time.Clock()\n",
        "\n",
        "##################################################\n",
        "#Object initialisation\n",
        "player = Player(WIDTH/2, HEIGHT/2)\n",
        "swarm = swarm(30, np.array([WIDTH/2, HEIGHT/2]))\n",
        "##################################################\n",
        "\n",
        "#Main Loop\n",
        "while True:\n",
        "\n",
        "    for event in pygame.event.get():\n",
        "        if event.type == pygame.QUIT:\n",
        "            pygame.quit()\n",
        "            sys.exit()\n",
        "        if event.type == pygame.KEYDOWN:\n",
        "            if event.key == pygame.K_LEFT:\n",
        "                player.left_pressed = True\n",
        "            if event.key == pygame.K_RIGHT:\n",
        "                player.right_pressed = True\n",
        "            if event.key == pygame.K_UP:\n",
        "                player.up_pressed = True\n",
        "            if event.key == pygame.K_DOWN:\n",
        "                player.down_pressed = True\n",
        "        if event.type == pygame.KEYUP:\n",
        "            if event.key == pygame.K_LEFT:\n",
        "                player.left_pressed = False\n",
        "            if event.key == pygame.K_RIGHT:\n",
        "                player.right_pressed = False\n",
        "            if event.key == pygame.K_UP:\n",
        "                player.up_pressed = False\n",
        "            if event.key == pygame.K_DOWN:\n",
        "                player.down_pressed = False\n",
        "        \n",
        "    #Draw\n",
        "    win.fill((0,0,0))  \n",
        "    player.draw(win)\n",
        "    swarm.draw(win)\n",
        "    \n",
        "    #update\n",
        "    player.update()\n",
        "    swarm.update(player.position, player.speed)\n",
        "    pygame.display.flip()\n",
        "\n",
        "    clock.tick(200)"
      ]
    },
    {
      "cell_type": "code",
      "execution_count": null,
      "metadata": {},
      "outputs": [],
      "source": [
        "import pygame\n",
        "import math\n",
        "\n",
        "def rotate_triangle(center, scale, mouse_pos):\n",
        "\n",
        "    vMouse  = pygame.math.Vector2(mouse_pos)\n",
        "    vCenter = pygame.math.Vector2(center)\n",
        "    angle   = pygame.math.Vector2().angle_to(vMouse - vCenter)\n",
        "\n",
        "    points = [(-0.5, -0.866), (-0.5, 0.866), (2.0, 0.0)]\n",
        "    rotated_point = [pygame.math.Vector2(p).rotate(angle) for p in points]\n",
        "\n",
        "    triangle_points = [(vCenter + p*scale) for p in rotated_point]\n",
        "    return triangle_points\n",
        "\n",
        "disp=pygame.display.set_mode((200,200))\n",
        "\n",
        "run = True\n",
        "while run:\n",
        "\n",
        "    for event in pygame.event.get():\n",
        "        if event.type == pygame.QUIT:\n",
        "            run = False\n",
        "\n",
        "    mouse_position = pygame.mouse.get_pos()\n",
        "    points = rotate_triangle((100, 100), 10, mouse_position)\n",
        "\n",
        "    pygame.Surface.fill(disp, (255,255,255))\n",
        "    pygame.draw.polygon(disp, (0,0,0), points)\n",
        "    pygame.display.update()"
      ]
    }
  ],
  "metadata": {
    "colab": {
      "provenance": []
    },
    "kernelspec": {
      "display_name": "base",
      "language": "python",
      "name": "python3"
    },
    "language_info": {
      "codemirror_mode": {
        "name": "ipython",
        "version": 3
      },
      "file_extension": ".py",
      "mimetype": "text/x-python",
      "name": "python",
      "nbconvert_exporter": "python",
      "pygments_lexer": "ipython3",
      "version": "3.9.13"
    },
    "vscode": {
      "interpreter": {
        "hash": "e86a25bf2cd4bc761420a9f9e4dfd048d62ee8348594e72ec02833304a144dc0"
      }
    }
  },
  "nbformat": 4,
  "nbformat_minor": 0
}
